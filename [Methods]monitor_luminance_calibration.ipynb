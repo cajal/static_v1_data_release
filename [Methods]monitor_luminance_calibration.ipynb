{
 "cells": [
  {
   "cell_type": "code",
   "execution_count": 1,
   "id": "fa2560c2",
   "metadata": {},
   "outputs": [
    {
     "name": "stdout",
     "output_type": "stream",
     "text": [
      "Loading local settings from pipeline_config.json\n",
      "Connecting pfahey@at-database.ad.bcm.edu:3306\n"
     ]
    }
   ],
   "source": [
    "import os\n",
    "import numpy as np\n",
    "import pandas as pd\n",
    "from tqdm import tqdm\n",
    "from datetime import date\n",
    "from scipy.optimize import curve_fit\n",
    "from scipy.interpolate import interp1d\n",
    "\n",
    "import matplotlib.pyplot as plt\n",
    "\n",
    "import datajoint as dj\n",
    "import static_nda as nda\n",
    "from stimulus import stimulus\n",
    "from pipeline import experiment\n",
    "from pipeline.utils.h5 import read_behavior_file\n"
   ]
  },
  {
   "cell_type": "code",
   "execution_count": 2,
   "id": "0372c94e",
   "metadata": {},
   "outputs": [],
   "source": [
    "# scan_keys = nda.Scan.proj()\n",
    "scan_keys = nda.ScanInclude.proj()"
   ]
  },
  {
   "cell_type": "code",
   "execution_count": 3,
   "id": "29249872",
   "metadata": {},
   "outputs": [
    {
     "name": "stderr",
     "output_type": "stream",
     "text": [
      "100%|██████████| 7/7 [03:47<00:00, 32.51s/it]\n"
     ]
    },
    {
     "data": {
      "text/html": [
       "<div>\n",
       "<style scoped>\n",
       "    .dataframe tbody tr th:only-of-type {\n",
       "        vertical-align: middle;\n",
       "    }\n",
       "\n",
       "    .dataframe tbody tr th {\n",
       "        vertical-align: top;\n",
       "    }\n",
       "\n",
       "    .dataframe thead th {\n",
       "        text-align: right;\n",
       "    }\n",
       "</style>\n",
       "<table border=\"1\" class=\"dataframe\">\n",
       "  <thead>\n",
       "    <tr style=\"text-align: right;\">\n",
       "      <th></th>\n",
       "      <th>key</th>\n",
       "      <th>PD</th>\n",
       "      <th>median_peak</th>\n",
       "      <th>median_valley</th>\n",
       "    </tr>\n",
       "  </thead>\n",
       "  <tbody>\n",
       "    <tr>\n",
       "      <th>0</th>\n",
       "      <td>{'animal_id': 21067, 'session': 10, 'scan_idx'...</td>\n",
       "      <td>[0.015272626051547293, 0.015272626051547293, 0...</td>\n",
       "      <td>0.460441</td>\n",
       "      <td>0.020208</td>\n",
       "    </tr>\n",
       "    <tr>\n",
       "      <th>1</th>\n",
       "      <td>{'animal_id': 22846, 'session': 10, 'scan_idx'...</td>\n",
       "      <td>[0.01790481129657433, 0.018233834451780874, 0....</td>\n",
       "      <td>0.466692</td>\n",
       "      <td>0.023169</td>\n",
       "    </tr>\n",
       "    <tr>\n",
       "      <th>2</th>\n",
       "      <td>{'animal_id': 23343, 'session': 5, 'scan_idx':...</td>\n",
       "      <td>[0.014943602895497054, 0.014943602895497054, 0...</td>\n",
       "      <td>0.461757</td>\n",
       "      <td>0.019879</td>\n",
       "    </tr>\n",
       "    <tr>\n",
       "      <th>3</th>\n",
       "      <td>{'animal_id': 23656, 'session': 14, 'scan_idx'...</td>\n",
       "      <td>[0.01625969551913552, 0.015272626051547293, 0....</td>\n",
       "      <td>0.457809</td>\n",
       "      <td>0.020537</td>\n",
       "    </tr>\n",
       "    <tr>\n",
       "      <th>4</th>\n",
       "      <td>{'animal_id': 23964, 'session': 4, 'scan_idx':...</td>\n",
       "      <td>[0.01658871867481077, 0.016917741830392272, 0....</td>\n",
       "      <td>0.452544</td>\n",
       "      <td>0.021524</td>\n",
       "    </tr>\n",
       "    <tr>\n",
       "      <th>5</th>\n",
       "      <td>{'animal_id': 26644, 'session': 14, 'scan_idx'...</td>\n",
       "      <td>[0.023169181768631437, 0.023169181768631437, 0...</td>\n",
       "      <td>0.391017</td>\n",
       "      <td>0.027117</td>\n",
       "    </tr>\n",
       "    <tr>\n",
       "      <th>6</th>\n",
       "      <td>{'animal_id': 26645, 'session': 2, 'scan_idx':...</td>\n",
       "      <td>[0.013956533426783813, 0.014943602895497054, 0...</td>\n",
       "      <td>0.383120</td>\n",
       "      <td>0.020866</td>\n",
       "    </tr>\n",
       "  </tbody>\n",
       "</table>\n",
       "</div>"
      ],
      "text/plain": [
       "                                                 key  \\\n",
       "0  {'animal_id': 21067, 'session': 10, 'scan_idx'...   \n",
       "1  {'animal_id': 22846, 'session': 10, 'scan_idx'...   \n",
       "2  {'animal_id': 23343, 'session': 5, 'scan_idx':...   \n",
       "3  {'animal_id': 23656, 'session': 14, 'scan_idx'...   \n",
       "4  {'animal_id': 23964, 'session': 4, 'scan_idx':...   \n",
       "5  {'animal_id': 26644, 'session': 14, 'scan_idx'...   \n",
       "6  {'animal_id': 26645, 'session': 2, 'scan_idx':...   \n",
       "\n",
       "                                                  PD  median_peak  \\\n",
       "0  [0.015272626051547293, 0.015272626051547293, 0...     0.460441   \n",
       "1  [0.01790481129657433, 0.018233834451780874, 0....     0.466692   \n",
       "2  [0.014943602895497054, 0.014943602895497054, 0...     0.461757   \n",
       "3  [0.01625969551913552, 0.015272626051547293, 0....     0.457809   \n",
       "4  [0.01658871867481077, 0.016917741830392272, 0....     0.452544   \n",
       "5  [0.023169181768631437, 0.023169181768631437, 0...     0.391017   \n",
       "6  [0.013956533426783813, 0.014943602895497054, 0...     0.383120   \n",
       "\n",
       "   median_valley  \n",
       "0       0.020208  \n",
       "1       0.023169  \n",
       "2       0.019879  \n",
       "3       0.020537  \n",
       "4       0.021524  \n",
       "5       0.027117  \n",
       "6       0.020866  "
      ]
     },
     "metadata": {},
     "output_type": "display_data"
    }
   ],
   "source": [
    "flip_df = []\n",
    "for key in tqdm(scan_keys):\n",
    "    session_date = (experiment.Session & key).fetch1('session_date')\n",
    "    scan_path = (experiment.Scan & key).local_filenames_as_wildcard\n",
    "    scan_dir = os.path.split(scan_path)[0]\n",
    "\n",
    "    scan_file = (experiment.Scan & key).fetch1('filename')\n",
    "    behavior_file = (experiment.Scan.BehaviorFile() & key).fetch1('filename')\n",
    "\n",
    "    full_scan_file = os.path.join(scan_dir, f\"{scan_file}_00001.tif\")\n",
    "    full_beh_file = os.path.join(scan_dir, behavior_file)\n",
    "\n",
    "    scan_on = os.path.isfile(full_scan_file)\n",
    "    data = read_behavior_file(full_beh_file)\n",
    "\n",
    "    PD = data[\"syncPd\"]\n",
    "    \n",
    "    key_str = '_'.join([str(s) for s in key.values()])\n",
    "    median_peak = np.nanmedian(PD[PD>np.nanpercentile(PD,80)])\n",
    "    median_valley = np.nanmedian(PD[PD<np.nanpercentile(PD,40)])\n",
    "    flip_df.append({'key':key,'PD':PD[::500],'median_peak':median_peak,'median_valley':median_valley})\n",
    "flip_df = pd.DataFrame(flip_df)\n",
    "display(flip_df)"
   ]
  },
  {
   "cell_type": "code",
   "execution_count": 4,
   "id": "3c17bbe4",
   "metadata": {},
   "outputs": [
    {
     "data": {
      "text/html": [
       "<div>\n",
       "<style scoped>\n",
       "    .dataframe tbody tr th:only-of-type {\n",
       "        vertical-align: middle;\n",
       "    }\n",
       "\n",
       "    .dataframe tbody tr th {\n",
       "        vertical-align: top;\n",
       "    }\n",
       "\n",
       "    .dataframe thead th {\n",
       "        text-align: right;\n",
       "    }\n",
       "</style>\n",
       "<table border=\"1\" class=\"dataframe\">\n",
       "  <thead>\n",
       "    <tr style=\"text-align: right;\">\n",
       "      <th></th>\n",
       "      <th>key</th>\n",
       "      <th>PD</th>\n",
       "      <th>median_peak</th>\n",
       "      <th>median_valley</th>\n",
       "    </tr>\n",
       "  </thead>\n",
       "  <tbody>\n",
       "    <tr>\n",
       "      <th>0</th>\n",
       "      <td>{'animal_id': 21067, 'session': 10, 'scan_idx'...</td>\n",
       "      <td>[0.015272626051547293, 0.015272626051547293, 0...</td>\n",
       "      <td>0.460441</td>\n",
       "      <td>0.020208</td>\n",
       "    </tr>\n",
       "    <tr>\n",
       "      <th>1</th>\n",
       "      <td>{'animal_id': 22846, 'session': 10, 'scan_idx'...</td>\n",
       "      <td>[0.01790481129657433, 0.018233834451780874, 0....</td>\n",
       "      <td>0.466692</td>\n",
       "      <td>0.023169</td>\n",
       "    </tr>\n",
       "    <tr>\n",
       "      <th>2</th>\n",
       "      <td>{'animal_id': 23343, 'session': 5, 'scan_idx':...</td>\n",
       "      <td>[0.014943602895497054, 0.014943602895497054, 0...</td>\n",
       "      <td>0.461757</td>\n",
       "      <td>0.019879</td>\n",
       "    </tr>\n",
       "    <tr>\n",
       "      <th>3</th>\n",
       "      <td>{'animal_id': 23656, 'session': 14, 'scan_idx'...</td>\n",
       "      <td>[0.01625969551913552, 0.015272626051547293, 0....</td>\n",
       "      <td>0.457809</td>\n",
       "      <td>0.020537</td>\n",
       "    </tr>\n",
       "    <tr>\n",
       "      <th>4</th>\n",
       "      <td>{'animal_id': 23964, 'session': 4, 'scan_idx':...</td>\n",
       "      <td>[0.01658871867481077, 0.016917741830392272, 0....</td>\n",
       "      <td>0.452544</td>\n",
       "      <td>0.021524</td>\n",
       "    </tr>\n",
       "    <tr>\n",
       "      <th>5</th>\n",
       "      <td>{'animal_id': 26644, 'session': 14, 'scan_idx'...</td>\n",
       "      <td>[0.023169181768631437, 0.023169181768631437, 0...</td>\n",
       "      <td>0.391017</td>\n",
       "      <td>0.027117</td>\n",
       "    </tr>\n",
       "    <tr>\n",
       "      <th>6</th>\n",
       "      <td>{'animal_id': 26645, 'session': 2, 'scan_idx':...</td>\n",
       "      <td>[0.013956533426783813, 0.014943602895497054, 0...</td>\n",
       "      <td>0.383120</td>\n",
       "      <td>0.020866</td>\n",
       "    </tr>\n",
       "  </tbody>\n",
       "</table>\n",
       "</div>"
      ],
      "text/plain": [
       "                                                 key  \\\n",
       "0  {'animal_id': 21067, 'session': 10, 'scan_idx'...   \n",
       "1  {'animal_id': 22846, 'session': 10, 'scan_idx'...   \n",
       "2  {'animal_id': 23343, 'session': 5, 'scan_idx':...   \n",
       "3  {'animal_id': 23656, 'session': 14, 'scan_idx'...   \n",
       "4  {'animal_id': 23964, 'session': 4, 'scan_idx':...   \n",
       "5  {'animal_id': 26644, 'session': 14, 'scan_idx'...   \n",
       "6  {'animal_id': 26645, 'session': 2, 'scan_idx':...   \n",
       "\n",
       "                                                  PD  median_peak  \\\n",
       "0  [0.015272626051547293, 0.015272626051547293, 0...     0.460441   \n",
       "1  [0.01790481129657433, 0.018233834451780874, 0....     0.466692   \n",
       "2  [0.014943602895497054, 0.014943602895497054, 0...     0.461757   \n",
       "3  [0.01625969551913552, 0.015272626051547293, 0....     0.457809   \n",
       "4  [0.01658871867481077, 0.016917741830392272, 0....     0.452544   \n",
       "5  [0.023169181768631437, 0.023169181768631437, 0...     0.391017   \n",
       "6  [0.013956533426783813, 0.014943602895497054, 0...     0.383120   \n",
       "\n",
       "   median_valley  \n",
       "0       0.020208  \n",
       "1       0.023169  \n",
       "2       0.019879  \n",
       "3       0.020537  \n",
       "4       0.021524  \n",
       "5       0.027117  \n",
       "6       0.020866  "
      ]
     },
     "execution_count": 4,
     "metadata": {},
     "output_type": "execute_result"
    }
   ],
   "source": [
    "flip_df"
   ]
  },
  {
   "cell_type": "code",
   "execution_count": 16,
   "id": "22cb6434",
   "metadata": {},
   "outputs": [
    {
     "name": "stdout",
     "output_type": "stream",
     "text": [
      "for 9 included scans, the nearest preceding calibration curves (trial) are:  [2, 4, 11]\n",
      "trial 2 is unblanked, but appears to have similar pd / luminance readings in relevant range\n",
      "trial 12 is a recently collected curve matching settings of trial 11\n",
      "trial 13 is a recently collected curve with updated settings (blanking on, matched luminance to 12)\n"
     ]
    },
    {
     "data": {
      "image/png": "[encoded data removed]",
      "text/plain": [
       "<Figure size 1080x360 with 3 Axes>"
      ]
     },
     "metadata": {
      "needs_background": "light"
     },
     "output_type": "display_data"
    },
    {
     "name": "stdout",
     "output_type": "stream",
     "text": [
      "I chose 4 to represent the scans preceding 1/30/2021 (blanked)\n",
      " and 11 to represent the scans following 1/30/2021 (unblanked)\n"
     ]
    }
   ],
   "source": [
    "scan_dates = (experiment.Session & scan_keys)\n",
    "scan_dates = scan_dates.proj('session_date').fetch(as_dict=True)\n",
    "\n",
    "calib_rest = {'rig':'2P4'}\n",
    "trial_dates = dj.U('trial').aggr(experiment.PhotodiodeCalibration & calib_rest,trial_date = 'MIN(ts)')\n",
    "\n",
    "preceding_calib = []\n",
    "for scan_date in scan_dates:\n",
    "    date_diffs = trial_dates.proj(datediff = f'DATEDIFF(\"{scan_date[\"session_date\"].isoformat()}\",trial_date)')\n",
    "    preceding_calib.append((date_diffs & 'datediff > 0').fetch('trial',order_by = 'datediff ASC',limit=1)[0])\n",
    "    \n",
    "print('for 9 included scans, the nearest preceding calibration curves (trial) are: ',\n",
    "      sorted(list(set(preceding_calib))))\n",
    "\n",
    "print('trial 2 is unblanked, but appears to have similar pd / luminance readings in relevant range')\n",
    "\n",
    "print('trial 12 is a recently collected curve matching settings of trial 11')\n",
    "print('trial 13 is a recently collected curve with updated settings (blanking on, matched luminance to 12)')\n",
    "\n",
    "pd0 = 0.0113\n",
    "lum0 = 0.001\n",
    "\n",
    "fetch_str = ['trial','luminance','pd_voltage']\n",
    "trials,lums,pds = (experiment.PhotodiodeCalibration & calib_rest &\n",
    "                                         'trial in (2,4,11,12,13)').fetch(*fetch_str)\n",
    "fig,(ax0,ax1,ax2) = plt.subplots(1,3,figsize=(15,5))\n",
    "for trial in (2,4,11,12,13):\n",
    "    trial_idx = trials==trial\n",
    "    ax0.plot(np.concatenate(([pd0],pds[trial_idx])),\n",
    "             np.concatenate(([lum0],lums[trial_idx])),'.-',label=str(trial))\n",
    "    ax1.plot(np.concatenate(([pd0],pds[trial_idx])),\n",
    "             np.concatenate(([lum0],lums[trial_idx])),'.-',label=str(trial))\n",
    "    \n",
    "ax1.set_xlim(-0.01,0.1)\n",
    "ax1.set_ylim(-.1,1)\n",
    "ax0.set_title('pd voltage to photometer luminance')\n",
    "ax1.set_title('pd voltage to photometer luminance (zoom)')\n",
    "ax2.set_title('pd voltage to photometer luminace')\n",
    "_ = ax0.legend()\n",
    "plt.show()\n",
    "plt.close()\n",
    "\n",
    "print('I chose 4 to represent the scans preceding 1/30/2021 (blanked)\\n',\n",
    "      'and 11 to represent the scans following 1/30/2021 (unblanked)')"
   ]
  },
  {
   "cell_type": "code",
   "execution_count": 11,
   "id": "547b007a",
   "metadata": {},
   "outputs": [],
   "source": [
    "coef = np.polyfit(pds[trials==4],lums[trials==4],1)"
   ]
  },
  {
   "cell_type": "code",
   "execution_count": 7,
   "id": "75c10bab",
   "metadata": {},
   "outputs": [],
   "source": []
  },
  {
   "cell_type": "code",
   "execution_count": 12,
   "id": "6415586e",
   "metadata": {},
   "outputs": [
    {
     "data": {
      "text/plain": [
       "array(0.107)"
      ]
     },
     "execution_count": 12,
     "metadata": {},
     "output_type": "execute_result"
    }
   ],
   "source": [
    "interp1d(np.concatenate(([pd0],pds[trials==4])),\n",
    "         np.concatenate(([lum0],lums[trials==4])),\n",
    "         kind='linear',fill_value='extrapolate')(0.02)"
   ]
  },
  {
   "cell_type": "code",
   "execution_count": 9,
   "id": "3026c571",
   "metadata": {},
   "outputs": [
    {
     "data": {
      "text/plain": [
       "array([1.000e-03, 1.600e-02, 3.800e-02, 1.530e-01, 3.910e-01, 7.860e-01,\n",
       "       1.303e+00, 1.957e+00, 2.691e+00, 3.548e+00, 4.462e+00, 5.388e+00,\n",
       "       6.344e+00, 7.519e+00, 8.847e+00, 9.995e+00, 1.133e+01])"
      ]
     },
     "execution_count": 9,
     "metadata": {},
     "output_type": "execute_result"
    }
   ],
   "source": [
    "np.concatenate(([pd0],pds[trials==4]))\n",
    "np.concatenate(([lum0],lums[trials==4]))"
   ]
  },
  {
   "cell_type": "code",
   "execution_count": 12,
   "id": "3bcc40a5",
   "metadata": {},
   "outputs": [],
   "source": [
    "poly1d_fn = np.poly1d(coef) "
   ]
  },
  {
   "cell_type": "code",
   "execution_count": 22,
   "id": "9a0ec954",
   "metadata": {},
   "outputs": [
    {
     "data": {
      "text/plain": [
       "array(11.63340909)"
      ]
     },
     "execution_count": 22,
     "metadata": {},
     "output_type": "execute_result"
    }
   ],
   "source": [
    "interp1d(pds[trials==4],lums[trials==4],kind='linear',fill_value='extrapolate')(0.46)"
   ]
  },
  {
   "cell_type": "code",
   "execution_count": 34,
   "id": "2ab29cfe",
   "metadata": {},
   "outputs": [
    {
     "data": {
      "text/plain": [
       "array(-0.152)"
      ]
     },
     "execution_count": 34,
     "metadata": {},
     "output_type": "execute_result"
    }
   ],
   "source": [
    "interp1d(pds[trials==11],lums[trials==11],kind='linear',fill_value='extrapolate')(0.02)"
   ]
  },
  {
   "cell_type": "code",
   "execution_count": 29,
   "id": "ea2df68e",
   "metadata": {},
   "outputs": [
    {
     "data": {
      "text/plain": [
       "-0.012429905790746987"
      ]
     },
     "execution_count": 29,
     "metadata": {},
     "output_type": "execute_result"
    }
   ],
   "source": [
    "poly1d_fn(0.02)"
   ]
  },
  {
   "cell_type": "code",
   "execution_count": null,
   "id": "a33be966",
   "metadata": {},
   "outputs": [],
   "source": []
  },
  {
   "cell_type": "code",
   "execution_count": 4,
   "id": "b81a0150",
   "metadata": {},
   "outputs": [
    {
     "name": "stderr",
     "output_type": "stream",
     "text": [
      "100%|██████████| 22/22 [00:05<00:00,  4.19it/s]\n"
     ]
    }
   ],
   "source": [
    "blank_trials = stimulus.Trial & stimulus.Blank & (dj.U('animal_id','session') & scan_keys)\n",
    "blank_count = dj.U('animal_id','session','scan_idx').aggr(blank_trials,n='count(trial_idx)')\n",
    "mon_calib_candidates = (blank_count & 'n=52').proj()\n",
    "\n",
    "calib_df = []\n",
    "offset = 2000000\n",
    "\n",
    "pixel_value = np.linspace(0, 255, 52)\n",
    "pixel_value_for_fit = pixel_value.copy()\n",
    "pixel_value_for_fit[0] = 1e-9\n",
    "\n",
    "def func(x, a, b, m):\n",
    "    return a + b * (x**m)\n",
    "\n",
    "\n",
    "\n",
    "for key in tqdm(list(mon_calib_candidates)):\n",
    "    session_date = (experiment.Session & key).fetch1('session_date')\n",
    "    scan_path = (experiment.Scan & key).local_filenames_as_wildcard\n",
    "    scan_dir = os.path.split(scan_path)[0]\n",
    "    \n",
    "    scan_file = (experiment.Scan & key).fetch1('filename')\n",
    "    behavior_file = (experiment.Scan.BehaviorFile() & key).fetch1('filename')\n",
    "    \n",
    "    full_scan_file = os.path.join(scan_dir, f\"{scan_file}_00001.tif\")\n",
    "    full_beh_file = os.path.join(scan_dir, behavior_file)\n",
    "    \n",
    "    scan_on = os.path.isfile(full_scan_file)\n",
    "#     if os.path.isfile(full_beh_file):\n",
    "    try:\n",
    "        data = read_behavior_file(full_beh_file)\n",
    "        \n",
    "        if len(data[\"trialnum_ts\"][1]) == 52:\n",
    "            \n",
    "            PD = data[\"syncPd\"]\n",
    "\n",
    "            ts = data[\"ts\"]\n",
    "            trial_starts = data[\"trialnum_ts\"][1]\n",
    "\n",
    "            # correct for counter that wraps at 2**32\n",
    "            ts = ts + np.concatenate(([0],np.cumsum(np.diff(ts)<0))) * 2**32\n",
    "            trial_starts = trial_starts + np.concatenate(([0],np.cumsum(np.diff(trial_starts)<0))) * 2**32\n",
    "\n",
    "            # zero timestamps to first trial onset\n",
    "            ts -= trial_starts[0]\n",
    "            trial_starts -= trial_starts[0]\n",
    "\n",
    "            # find median trial length\n",
    "            med_trial_length = np.nanmedian(np.diff(trial_starts))\n",
    "\n",
    "            # find calibration window\n",
    "            #TODO sometimes no trials in window and not sure why (np.sum(window) == 0)\n",
    "            calib_window = np.logical_and(ts>=trial_starts[0],ts<=trial_starts[-1]+med_trial_length)\n",
    "            \n",
    "            # max pd voltage\n",
    "            max_voltage = np.nanmax(PD)\n",
    "            \n",
    "            pd_medians = np.array([np.nanmedian(PD[np.logical_and(ts>=s+offset,ts<=s+med_trial_length*0.95)]) \n",
    "                          for s in trial_starts])\n",
    "            px2pd_params,_ = curve_fit(func,pixel_value_for_fit,pd_medians)\n",
    "            \n",
    "            calib_df.append({**key,'date':session_date,\n",
    "                             'data':data,\n",
    "                             'ts':ts,'PD':PD,'trial_starts':trial_starts,\n",
    "                             'scan_on':scan_on, \n",
    "                             'med_trial_length':med_trial_length,\n",
    "                             'calib_window':calib_window,\n",
    "                             'max_volt':max_voltage,\n",
    "                             'pd_medians':pd_medians,\n",
    "                             'px2pd_params':px2pd_params})\n",
    "            \n",
    "            \n",
    "            \n",
    "            \n",
    "            \n",
    "    except OSError:\n",
    "        print(f'skipping {\"_\".join([str(v) for v in key.values()])}, missing file')\n",
    "        \n",
    "calib_df = pd.DataFrame(calib_df)"
   ]
  },
  {
   "cell_type": "code",
   "execution_count": 5,
   "id": "4adac603",
   "metadata": {},
   "outputs": [
    {
     "data": {
      "image/png": "[encoded data removed]",
      "text/plain": [
       "<Figure size 1080x360 with 3 Axes>"
      ]
     },
     "metadata": {
      "needs_background": "light"
     },
     "output_type": "display_data"
    },
    {
     "name": "stdout",
     "output_type": "stream",
     "text": [
      "calibration scans collected in the early period were unblanked (no scanimage scan was simultaneously collected)\n",
      "\n",
      "median min pd voltage (pixel 0):  0.0192\n",
      "median max pd voltage (pixel 255):  0.3703\n",
      "median gamma:  1.7093\n"
     ]
    },
    {
     "data": {
      "text/html": [
       "<div>\n",
       "<style scoped>\n",
       "    .dataframe tbody tr th:only-of-type {\n",
       "        vertical-align: middle;\n",
       "    }\n",
       "\n",
       "    .dataframe tbody tr th {\n",
       "        vertical-align: top;\n",
       "    }\n",
       "\n",
       "    .dataframe thead th {\n",
       "        text-align: right;\n",
       "    }\n",
       "</style>\n",
       "<table border=\"1\" class=\"dataframe\">\n",
       "  <thead>\n",
       "    <tr style=\"text-align: right;\">\n",
       "      <th></th>\n",
       "      <th>scan</th>\n",
       "      <th>pixel 0</th>\n",
       "      <th>pixel 255</th>\n",
       "      <th>gamma</th>\n",
       "    </tr>\n",
       "  </thead>\n",
       "  <tbody>\n",
       "    <tr>\n",
       "      <th>0</th>\n",
       "      <td>26644_14_1</td>\n",
       "      <td>0.016589</td>\n",
       "      <td>0.370289</td>\n",
       "      <td>1.725896</td>\n",
       "    </tr>\n",
       "    <tr>\n",
       "      <th>1</th>\n",
       "      <td>26644_14_13</td>\n",
       "      <td>0.032711</td>\n",
       "      <td>0.389372</td>\n",
       "      <td>1.672785</td>\n",
       "    </tr>\n",
       "    <tr>\n",
       "      <th>2</th>\n",
       "      <td>26644_14_15</td>\n",
       "      <td>0.027117</td>\n",
       "      <td>0.376540</td>\n",
       "      <td>1.687410</td>\n",
       "    </tr>\n",
       "    <tr>\n",
       "      <th>3</th>\n",
       "      <td>26645_2_2</td>\n",
       "      <td>0.011653</td>\n",
       "      <td>0.365353</td>\n",
       "      <td>1.738267</td>\n",
       "    </tr>\n",
       "    <tr>\n",
       "      <th>4</th>\n",
       "      <td>26645_2_16</td>\n",
       "      <td>0.019221</td>\n",
       "      <td>0.364366</td>\n",
       "      <td>1.709339</td>\n",
       "    </tr>\n",
       "  </tbody>\n",
       "</table>\n",
       "</div>"
      ],
      "text/plain": [
       "          scan   pixel 0  pixel 255     gamma\n",
       "0   26644_14_1  0.016589   0.370289  1.725896\n",
       "1  26644_14_13  0.032711   0.389372  1.672785\n",
       "2  26644_14_15  0.027117   0.376540  1.687410\n",
       "3    26645_2_2  0.011653   0.365353  1.738267\n",
       "4   26645_2_16  0.019221   0.364366  1.709339"
      ]
     },
     "metadata": {},
     "output_type": "display_data"
    }
   ],
   "source": [
    "fig,axes = plt.subplots(1,3,figsize=(15,5))\n",
    "likely_blanking = np.array([np.nanmax(PD)<0.5 for PD in calib_df['PD']])\n",
    "\n",
    "\n",
    "PDs,windows = np.array(calib_df[likely_blanking][['PD','calib_window']]).T\n",
    "for t,w in zip(PDs,windows):\n",
    "    axes[0].plot(t[w][::500],'k',alpha=0.5)\n",
    "    \n",
    "PDs,windows = np.array(calib_df[~likely_blanking][['PD','calib_window']]).T\n",
    "for t,w in zip(PDs,windows):\n",
    "    axes[0].plot(t[w][::500],'r',alpha=0.5)\n",
    "    \n",
    "pd_medians = np.array(calib_df[likely_blanking]['pd_medians'])\n",
    "for t in pd_medians:\n",
    "    axes[1].plot(pixel_value_for_fit,t,'k',alpha=0.5)\n",
    "    \n",
    "pd_medians = np.array(calib_df[~likely_blanking]['pd_medians'])\n",
    "for t in pd_medians:\n",
    "    axes[1].plot(pixel_value_for_fit,t,'r',alpha=0.5)\n",
    "\n",
    "    \n",
    "px2pd_params = np.array(calib_df[likely_blanking]['px2pd_params'])\n",
    "for p in px2pd_params:\n",
    "    axes[2].plot(pixel_value_for_fit,func(pixel_value_for_fit,*p),'k',alpha=0.5)\n",
    "\n",
    "px2pd_params = np.array(calib_df[~likely_blanking]['px2pd_params'])\n",
    "for p in px2pd_params:\n",
    "    axes[2].plot(pixel_value_for_fit,func(pixel_value_for_fit,*p),'r',alpha=0.5)\n",
    "\n",
    "\n",
    "axes[0].set_title('raw photodiode traces')\n",
    "axes[0].set_xlabel('time (samples, downsampled 1:500)')\n",
    "axes[0].set_ylabel('pd voltage')\n",
    "axes[1].set_title('extracted median photodiode voltage per trial')\n",
    "axes[1].set_xlabel('trial pixel intensity')\n",
    "axes[1].set_ylabel('pd voltage')\n",
    "axes[2].set_title('fitted photodiode voltage per trial')\n",
    "axes[2].set_xlabel('trial pixel intensity')\n",
    "axes[2].set_ylabel('pd voltage')\n",
    "\n",
    "legend_dict = {'likely_unblanked': 'r', \n",
    "               'likely_blanked' : 'k'}\n",
    "\n",
    "markers = [plt.Line2D([0,0],[0,0],color=color, marker='o', linestyle='') for color in legend_dict.values()]\n",
    "_ = plt.legend(markers, legend_dict.keys(), numpoints=1)\n",
    "\n",
    "plt.show()\n",
    "plt.close()\n",
    "\n",
    "print('calibration scans collected in the early period were',\n",
    "       'unblanked (no scanimage scan was simultaneously collected)\\n')\n",
    "\n",
    "blanked_df = []\n",
    "ext_strs = ['animal_id','session','scan_idx','px2pd_params','pd_medians']\n",
    "for animal_id,session,scan,px2pd_params,pd_medians in np.array(calib_df[likely_blanking][[*ext_strs]]):\n",
    "    scan_str = '_'.join([str(s) for s in [animal_id,session,scan]])\n",
    "    blanked_df.append({'scan':scan_str,\n",
    "                       'pixel 0':pd_medians[0],\n",
    "                       'pixel 255':pd_medians[-1],\n",
    "                       'gamma':px2pd_params[-1]})\n",
    "blanked_df = pd.DataFrame(blanked_df)\n",
    "med_min_pd = np.nanmedian(blanked_df['pixel 0'])\n",
    "med_max_pd = np.nanmedian(blanked_df['pixel 255'])\n",
    "med_gamma = np.nanmedian(blanked_df['gamma'])\n",
    "print('median min pd voltage (pixel 0): ', np.round(med_min_pd,4))\n",
    "print('median max pd voltage (pixel 255): ', np.round(med_max_pd,4))\n",
    "print('median gamma: ', np.round(med_gamma,4))\n",
    "\n",
    "display(blanked_df)\n",
    "\n"
   ]
  },
  {
   "cell_type": "markdown",
   "id": "226f158a",
   "metadata": {},
   "source": [
    "Interpolating the photodiode values from the calibration scans appears to be unhelpful, since majority are unblanked (before 1/30), and remainder after 1/30 only apply to two scans which were collected under differet imaging conditions.  \n",
    "\n",
    "Interpolating monitor calibration pd values after 1/30 for curves before 1/30 is likely to be inaccurate, as different power settings (before blanking) appear to have an baseline offset effect.  \n",
    "\n",
    "Additionally, interpolating the pd values from the calibration scans after 1/30 appear to fall outside the range of the pd->photometer calibration scans, likely due to a warmup effect resulting in higher monitor luminance (both on photometer and pd metrics) that is absent in monitor calibration scans collected per session early in the day. \n"
   ]
  },
  {
   "cell_type": "code",
   "execution_count": 7,
   "id": "3b6db3c3",
   "metadata": {},
   "outputs": [
    {
     "name": "stdout",
     "output_type": "stream",
     "text": [
      "[0.08908079 8.9950796 ]\n",
      "[-0.1609596   8.78294911]\n"
     ]
    }
   ],
   "source": [
    "blanked_pd2lum = interp1d(pds[trials==4],lums[trials==4],kind='linear',fill_value='extrapolate')\n",
    "unblanked_pd2lum = interp1d(pds[trials==11],lums[trials==11],kind='linear',fill_value='extrapolate')\n",
    "\n",
    "print(blanked_pd2lum((med_min_pd,med_max_pd)))\n",
    "print(unblanked_pd2lum((med_min_pd,med_max_pd)))"
   ]
  },
  {
   "cell_type": "code",
   "execution_count": 12,
   "id": "768d2f2b",
   "metadata": {},
   "outputs": [
    {
     "name": "stdout",
     "output_type": "stream",
     "text": [
      "11.633409090909092\n",
      "11.556314285714281\n"
     ]
    }
   ],
   "source": [
    "print(blanked_pd2lum((0.46)))\n",
    "print(unblanked_pd2lum((0.46)))"
   ]
  },
  {
   "cell_type": "markdown",
   "id": "6b7ecf45",
   "metadata": {},
   "source": [
    "Thus, the most accurate representation of the monitor performance during a scan is likely to come from the higher values recorded during a pd-> photometer calibration, and not from a pixel->pd monitor calibration scan per session.  Thus, the min / max luminance values will come from the pd->photometer curve, which was also collected per pixel value.  "
   ]
  },
  {
   "cell_type": "code",
   "execution_count": 8,
   "id": "9ea48973",
   "metadata": {},
   "outputs": [
    {
     "name": "stdout",
     "output_type": "stream",
     "text": [
      "trial 4 range (0-255):  0.016 - 11.33\n",
      "trial 11 range (0-255):  0.009 - 9.145\n",
      "trial 12 range (0-255):  0.01 - 10.31\n",
      "trial 13 range (0-255):  0.01 - 10.32\n"
     ]
    }
   ],
   "source": [
    "print('trial 4 luminance range (0-255): ', np.round(np.min(lums[trials==4]),4),'-',np.round(np.max(lums[trials==4]),4))\n",
    "print('trial 11 luminance range (0-255): ', np.round(np.min(lums[trials==11]),4),'-',np.round(np.max(lums[trials==11]),4))\n",
    "print('trial 12 luminance range (0-255): ', np.round(np.min(lums[trials==12]),4),'-',np.round(np.max(lums[trials==12]),4))\n",
    "print('trial 13 luminance range (0-255): ', np.round(np.min(lums[trials==13]),4),'-',np.round(np.max(lums[trials==13]),4))"
   ]
  },
  {
   "cell_type": "code",
   "execution_count": 11,
   "id": "211e7e47",
   "metadata": {},
   "outputs": [
    {
     "name": "stdout",
     "output_type": "stream",
     "text": [
      "trial 4 photodiode range (0-255):  0.016 - 0.45\n",
      "trial 11 photodiode range (0-255):  0.034 - 0.382\n",
      "trial 12 photodiode range (0-255):  0.038 - 0.421\n",
      "trial 13 photodiode range (0-255):  0.038 - 0.444\n"
     ]
    }
   ],
   "source": [
    "print('trial 4 photodiode range (0-255): ', np.round(np.min(pds[trials==4]),4),'-',np.round(np.max(pds[trials==4]),4))\n",
    "print('trial 11 photodiode range (0-255): ', np.round(np.min(pds[trials==11]),4),'-',np.round(np.max(pds[trials==11]),4))\n",
    "print('trial 12 photodiode range (0-255): ', np.round(np.min(pds[trials==12]),4),'-',np.round(np.max(pds[trials==12]),4))\n",
    "print('trial 13 photodiode range (0-255): ', np.round(np.min(pds[trials==13]),4),'-',np.round(np.max(pds[trials==13]),4))"
   ]
  },
  {
   "cell_type": "markdown",
   "id": "3212c31e",
   "metadata": {},
   "source": [
    "From the monitor calibration scan per session, we can estimate the gamma curve.  Notably, the function used doesn't actually seem to fit the curve very well, especially at low values.  It does allow us to estimate the gamma value from the curve at ~1.709 (see median gamma above)"
   ]
  },
  {
   "cell_type": "code",
   "execution_count": 10,
   "id": "b7c5cd7c",
   "metadata": {},
   "outputs": [
    {
     "data": {
      "image/png": "[encoded data removed]",
      "text/plain": [
       "<Figure size 1800x360 with 5 Axes>"
      ]
     },
     "metadata": {
      "needs_background": "light"
     },
     "output_type": "display_data"
    }
   ],
   "source": [
    "fig,axes = plt.subplots(1,5,figsize=(25,5))\n",
    "for ax,pd_median,px2pd_params in zip(axes,*np.array(calib_df[likely_blanking][['pd_medians','px2pd_params']]).T):\n",
    "    ax.plot(pixel_value_for_fit,pd_median,'k')\n",
    "    ax.plot(pixel_value_for_fit,func(pixel_value_for_fit,*px2pd_params),'r')"
   ]
  },
  {
   "cell_type": "code",
   "execution_count": null,
   "id": "7f7f5836",
   "metadata": {},
   "outputs": [],
   "source": []
  }
 ],
 "metadata": {
  "kernelspec": {
   "display_name": "Python 3",
   "language": "python",
   "name": "python3"
  },
  "language_info": {
   "codemirror_mode": {
    "name": "ipython",
    "version": 3
   },
   "file_extension": ".py",
   "mimetype": "text/x-python",
   "name": "python",
   "nbconvert_exporter": "python",
   "pygments_lexer": "ipython3",
   "version": "3.6.9"
  }
 },
 "nbformat": 4,
 "nbformat_minor": 5
}
