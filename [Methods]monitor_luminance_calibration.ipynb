{
 "cells": [
  {
   "cell_type": "code",
   "execution_count": 37,
   "id": "fa2560c2",
   "metadata": {},
   "outputs": [],
   "source": [
    "from pipeline import experiment\n",
    "import datajoint as dj\n",
    "import matplotlib.pyplot as plt\n",
    "import numpy as np\n",
    "import static_nda as nda\n",
    "import pandas as pd"
   ]
  },
  {
   "cell_type": "code",
   "execution_count": 16,
   "id": "409aede9",
   "metadata": {},
   "outputs": [
    {
     "data": {
      "text/plain": [
       "# Photodiode luminance calibration\n",
       "rig                  : char(8)                      # multiphoton imaging setup\n",
       "trial                : int                          # repetitions\n",
       "pixel_value          : mediumint                    # control pixel value\n",
       "---\n",
       "luminance            : double                       # luminance in cd/m^2\n",
       "pd_voltage           : double                       # photodiode voltage at specified luminance in V\n",
       "blanking=0           : tinyint                      # 1=blanking, 0=no blanking during calibration\n",
       "ts=CURRENT_TIMESTAMP : timestamp                    # timestamp\n",
       "notes=null           : varchar(255)                 # \n",
       "monitor_type=null    : varchar(16)                  # \n",
       "illumination=null    : varchar(16)                  # \n",
       "power_per_area=null  : double                       # "
      ]
     },
     "execution_count": 16,
     "metadata": {},
     "output_type": "execute_result"
    }
   ],
   "source": [
    "experiment.PhotodiodeCalibration.heading"
   ]
  },
  {
   "cell_type": "code",
   "execution_count": 31,
   "id": "e46100ab",
   "metadata": {},
   "outputs": [],
   "source": [
    "calib_rest = {'rig':'2P4'}\n",
    "# dj.U('blanking').aggr(experiment.PhotodiodeCalibration & calib_rest,n='count(*)')\n",
    "ts,lums,blanks = (experiment.PhotodiodeCalibration & calib_rest).fetch('ts','luminance','blanking')\n",
    "scan_dates = (experiment.Session & nda.Scan()).fetch('session_date')"
   ]
  },
  {
   "cell_type": "code",
   "execution_count": null,
   "id": "5ba39e87",
   "metadata": {},
   "outputs": [],
   "source": [
    "post_loss_sessions = experiment.Session.proj(datediff='DATEDIFF(session_date,\"2020-02-08\")') & 'datediff>0'\n"
   ]
  },
  {
   "cell_type": "code",
   "execution_count": null,
   "id": "8a974e1b",
   "metadata": {},
   "outputs": [],
   "source": []
  },
  {
   "cell_type": "code",
   "execution_count": 41,
   "id": "34af9e40",
   "metadata": {},
   "outputs": [
    {
     "data": {
      "text/html": [
       "\n",
       "        \n",
       "        <style type=\"text/css\">\n",
       "            .Relation{\n",
       "                border-collapse:collapse;\n",
       "            }\n",
       "            .Relation th{\n",
       "                background: #A0A0A0; color: #ffffff; padding:4px; border:#f0e0e0 1px solid;\n",
       "                font-weight: normal; font-family: monospace; font-size: 100%;\n",
       "            }\n",
       "            .Relation td{\n",
       "                padding:4px; border:#f0e0e0 1px solid; font-size:100%;\n",
       "            }\n",
       "            .Relation tr:nth-child(odd){\n",
       "                background: #ffffff;\n",
       "            }\n",
       "            .Relation tr:nth-child(even){\n",
       "                background: #f3f1ff;\n",
       "            }\n",
       "            /* Tooltip container */\n",
       "            .djtooltip {\n",
       "            }\n",
       "            /* Tooltip text */\n",
       "            .djtooltip .djtooltiptext {\n",
       "                visibility: hidden;\n",
       "                width: 120px;\n",
       "                background-color: black;\n",
       "                color: #fff;\n",
       "                text-align: center;\n",
       "                padding: 5px 0;\n",
       "                border-radius: 6px;\n",
       "                /* Position the tooltip text - see examples below! */\n",
       "                position: absolute;\n",
       "                z-index: 1;\n",
       "            }\n",
       "            #primary {\n",
       "                font-weight: bold;\n",
       "                color: black;\n",
       "            }\n",
       "\n",
       "            #nonprimary {\n",
       "                font-weight: normal;\n",
       "                color: white;\n",
       "            }\n",
       "\n",
       "            /* Show the tooltip text when you mouse over the tooltip container */\n",
       "            .djtooltip:hover .djtooltiptext {\n",
       "                visibility: visible;\n",
       "            }\n",
       "        </style>\n",
       "        \n",
       "        \n",
       "            <div style=\"max-height:1000px;max-width:1500px;overflow:auto;\">\n",
       "            <table border=\"1\" class=\"Relation\">\n",
       "                <thead> <tr style=\"text-align: right;\"> <th> <div class=\"djtooltip\">\n",
       "                                <p id=\"primary\">notes</p>\n",
       "                                <span class=\"djtooltiptext\"></span>\n",
       "                            </div></th><th><div class=\"djtooltip\">\n",
       "                                <p id=\"primary\">monitor_type</p>\n",
       "                                <span class=\"djtooltiptext\"></span>\n",
       "                            </div></th><th><div class=\"djtooltip\">\n",
       "                                <p id=\"primary\">illumination</p>\n",
       "                                <span class=\"djtooltiptext\"></span>\n",
       "                            </div></th><th><div class=\"djtooltip\">\n",
       "                                <p id=\"primary\">power_per_area</p>\n",
       "                                <span class=\"djtooltiptext\"></span>\n",
       "                            </div> </th> </tr> </thead>\n",
       "                <tbody> <tr> <td>Minimal Blanking, blanking duration in both channels = 4 usec</td>\n",
       "<td>LCD</td>\n",
       "<td>RGB</td>\n",
       "<td>nan</td></tr><tr><td>Minimum blanking, both channels blanking duration = 4 usec, max luminance approx 3 cd/sq-m</td>\n",
       "<td>LCD</td>\n",
       "<td>RGB</td>\n",
       "<td>nan</td></tr><tr><td>Power: 41.09V, 0.007A, M3, CV Mode, Korad power supply</td>\n",
       "<td>LCD</td>\n",
       "<td>RGB</td>\n",
       "<td>nan</td> </tr> </tbody>\n",
       "            </table>\n",
       "            \n",
       "            <p>Total: 0</p></div>\n",
       "            "
      ],
      "text/plain": [
       "*notes         *monitor_type  *illumination  *power_per_are\n",
       "+------------+ +------------+ +------------+ +------------+\n",
       "Minimal Blanki LCD            RGB            nan           \n",
       "Minimum blanki LCD            RGB            nan           \n",
       "Power: 41.09V, LCD            RGB            nan           \n",
       " (Total: 0)"
      ]
     },
     "execution_count": 41,
     "metadata": {},
     "output_type": "execute_result"
    }
   ],
   "source": [
    "dj.U('notes','monitor_type','illumination','power_per_area') & (experiment.PhotodiodeCalibration & calib_rest & 'trial>=9')"
   ]
  },
  {
   "cell_type": "code",
   "execution_count": 68,
   "id": "beae38af",
   "metadata": {},
   "outputs": [],
   "source": [
    "fetch_str = ['trial','ts','pixel_value','luminance','pd_voltage','notes','blanking']\n",
    "trials,ts,pxs,lums,pds,notes,blanks = (experiment.PhotodiodeCalibration & calib_rest &\n",
    "                                         'trial>=9').fetch(*fetch_str)"
   ]
  },
  {
   "cell_type": "code",
   "execution_count": 77,
   "id": "0e5db09e",
   "metadata": {},
   "outputs": [
    {
     "data": {
      "image/png": "[encoded data removed]",
      "text/plain": [
       "<Figure size 432x288 with 1 Axes>"
      ]
     },
     "metadata": {
      "needs_background": "light"
     },
     "output_type": "display_data"
    }
   ],
   "source": [
    "for trial,note in zip(set(trials),set(notes)):\n",
    "    trial_idx = trials==trial\n",
    "    label = str(trial) + ': ' + note + ', pixel range: ' + \\\n",
    "            str(np.min(pxs[trial_idx])) + '-' + str(np.max(pxs[trial_idx])) + \\\n",
    "                ', blanking=' + str(bool(list(set(blanks[trial_idx]))[0]))\n",
    "    plt.plot(pds[trial_idx],lums[trial_idx],label=label)\n",
    "    plt.legend(loc=[-0.1,-0.4])\n",
    "    "
   ]
  },
  {
   "cell_type": "code",
   "execution_count": 33,
   "id": "36245d3d",
   "metadata": {},
   "outputs": [
    {
     "data": {
      "text/plain": [
       "<matplotlib.collections.PathCollection at 0x7f3885572710>"
      ]
     },
     "execution_count": 33,
     "metadata": {},
     "output_type": "execute_result"
    },
    {
     "data": {
      "image/png": "[encoded data removed]",
      "text/plain": [
       "<Figure size 432x288 with 1 Axes>"
      ]
     },
     "metadata": {
      "needs_background": "light"
     },
     "output_type": "display_data"
    }
   ],
   "source": [
    "plt.scatter(ts,lums,color=[{0:'r',1:'b'}[b] for b in blanks])\n",
    "plt.scatter(scan_dates,np.ones(len(scan_dates)),color='k')"
   ]
  },
  {
   "cell_type": "code",
   "execution_count": null,
   "id": "35a9940b",
   "metadata": {},
   "outputs": [],
   "source": [
    "0-10 candelas/sq-m"
   ]
  },
  {
   "cell_type": "code",
   "execution_count": 85,
   "id": "da793da9",
   "metadata": {},
   "outputs": [],
   "source": [
    "plat = dj.create_virtual_module('pipeline_platinum','pipeline_platinum')"
   ]
  },
  {
   "cell_type": "code",
   "execution_count": 89,
   "id": "9fa362db",
   "metadata": {},
   "outputs": [],
   "source": [
    "from stimulus import stimulus"
   ]
  },
  {
   "cell_type": "code",
   "execution_count": 94,
   "id": "14be4577",
   "metadata": {},
   "outputs": [
    {
     "data": {
      "text/html": [
       "\n",
       "        \n",
       "        <style type=\"text/css\">\n",
       "            .Relation{\n",
       "                border-collapse:collapse;\n",
       "            }\n",
       "            .Relation th{\n",
       "                background: #A0A0A0; color: #ffffff; padding:4px; border:#f0e0e0 1px solid;\n",
       "                font-weight: normal; font-family: monospace; font-size: 100%;\n",
       "            }\n",
       "            .Relation td{\n",
       "                padding:4px; border:#f0e0e0 1px solid; font-size:100%;\n",
       "            }\n",
       "            .Relation tr:nth-child(odd){\n",
       "                background: #ffffff;\n",
       "            }\n",
       "            .Relation tr:nth-child(even){\n",
       "                background: #f3f1ff;\n",
       "            }\n",
       "            /* Tooltip container */\n",
       "            .djtooltip {\n",
       "            }\n",
       "            /* Tooltip text */\n",
       "            .djtooltip .djtooltiptext {\n",
       "                visibility: hidden;\n",
       "                width: 120px;\n",
       "                background-color: black;\n",
       "                color: #fff;\n",
       "                text-align: center;\n",
       "                padding: 5px 0;\n",
       "                border-radius: 6px;\n",
       "                /* Position the tooltip text - see examples below! */\n",
       "                position: absolute;\n",
       "                z-index: 1;\n",
       "            }\n",
       "            #primary {\n",
       "                font-weight: bold;\n",
       "                color: black;\n",
       "            }\n",
       "\n",
       "            #nonprimary {\n",
       "                font-weight: normal;\n",
       "                color: white;\n",
       "            }\n",
       "\n",
       "            /* Show the tooltip text when you mouse over the tooltip container */\n",
       "            .djtooltip:hover .djtooltiptext {\n",
       "                visibility: visible;\n",
       "            }\n",
       "        </style>\n",
       "        \n",
       "        \n",
       "            <div style=\"max-height:1000px;max-width:1500px;overflow:auto;\">\n",
       "            <table border=\"1\" class=\"Relation\">\n",
       "                <thead> <tr style=\"text-align: right;\"> <th> <div class=\"djtooltip\">\n",
       "                                <p id=\"primary\">stimulus_type</p>\n",
       "                                <span class=\"djtooltiptext\">class name of the special stimulus condition table class</span>\n",
       "                            </div></th><th><div class=\"djtooltip\">\n",
       "                                <p id=\"nonprimary\">n</p>\n",
       "                                <span class=\"djtooltiptext\">calculated attribute</span>\n",
       "                            </div> </th> </tr> </thead>\n",
       "                <tbody> <tr> <td>stimulus.Blank</td>\n",
       "<td>52</td> </tr> </tbody>\n",
       "            </table>\n",
       "            \n",
       "            <p>Total: 1</p></div>\n",
       "            "
      ],
      "text/plain": [
       "*stimulus_type n     \n",
       "+------------+ +----+\n",
       "stimulus.Blank 52    \n",
       " (Total: 1)"
      ]
     },
     "execution_count": 94,
     "metadata": {},
     "output_type": "execute_result"
    }
   ],
   "source": [
    "moncalib_key = {'animal_id':17358, 'session':10, 'scan_idx':4}\n",
    "dj.U('stimulus_type').aggr((stimulus.Trial & moncalib_key) * stimulus.Condition,n='count(*)')"
   ]
  },
  {
   "cell_type": "code",
   "execution_count": 109,
   "id": "9b90c614",
   "metadata": {},
   "outputs": [
    {
     "data": {
      "text/html": [
       "<div>\n",
       "<style scoped>\n",
       "    .dataframe tbody tr th:only-of-type {\n",
       "        vertical-align: middle;\n",
       "    }\n",
       "\n",
       "    .dataframe tbody tr th {\n",
       "        vertical-align: top;\n",
       "    }\n",
       "\n",
       "    .dataframe thead th {\n",
       "        text-align: right;\n",
       "    }\n",
       "</style>\n",
       "<table border=\"1\" class=\"dataframe\">\n",
       "  <thead>\n",
       "    <tr style=\"text-align: right;\">\n",
       "      <th></th>\n",
       "      <th>animal_id</th>\n",
       "      <th>session</th>\n",
       "      <th>scan_idx</th>\n",
       "      <th>nframes</th>\n",
       "      <th>nfields</th>\n",
       "      <th>fps</th>\n",
       "    </tr>\n",
       "  </thead>\n",
       "  <tbody>\n",
       "    <tr>\n",
       "      <th>0</th>\n",
       "      <td>21067</td>\n",
       "      <td>9</td>\n",
       "      <td>17</td>\n",
       "      <td>48252</td>\n",
       "      <td>10</td>\n",
       "      <td>7.97908</td>\n",
       "    </tr>\n",
       "    <tr>\n",
       "      <th>1</th>\n",
       "      <td>21067</td>\n",
       "      <td>10</td>\n",
       "      <td>18</td>\n",
       "      <td>49431</td>\n",
       "      <td>10</td>\n",
       "      <td>7.97908</td>\n",
       "    </tr>\n",
       "    <tr>\n",
       "      <th>2</th>\n",
       "      <td>21067</td>\n",
       "      <td>13</td>\n",
       "      <td>14</td>\n",
       "      <td>52671</td>\n",
       "      <td>10</td>\n",
       "      <td>7.97908</td>\n",
       "    </tr>\n",
       "    <tr>\n",
       "      <th>3</th>\n",
       "      <td>22620</td>\n",
       "      <td>4</td>\n",
       "      <td>15</td>\n",
       "      <td>49122</td>\n",
       "      <td>10</td>\n",
       "      <td>7.97908</td>\n",
       "    </tr>\n",
       "    <tr>\n",
       "      <th>4</th>\n",
       "      <td>22620</td>\n",
       "      <td>4</td>\n",
       "      <td>17</td>\n",
       "      <td>51593</td>\n",
       "      <td>10</td>\n",
       "      <td>7.97908</td>\n",
       "    </tr>\n",
       "    <tr>\n",
       "      <th>5</th>\n",
       "      <td>22620</td>\n",
       "      <td>5</td>\n",
       "      <td>11</td>\n",
       "      <td>48647</td>\n",
       "      <td>10</td>\n",
       "      <td>7.97908</td>\n",
       "    </tr>\n",
       "    <tr>\n",
       "      <th>6</th>\n",
       "      <td>22846</td>\n",
       "      <td>2</td>\n",
       "      <td>19</td>\n",
       "      <td>48050</td>\n",
       "      <td>10</td>\n",
       "      <td>7.97908</td>\n",
       "    </tr>\n",
       "    <tr>\n",
       "      <th>7</th>\n",
       "      <td>22846</td>\n",
       "      <td>2</td>\n",
       "      <td>21</td>\n",
       "      <td>55188</td>\n",
       "      <td>10</td>\n",
       "      <td>7.97908</td>\n",
       "    </tr>\n",
       "    <tr>\n",
       "      <th>8</th>\n",
       "      <td>22846</td>\n",
       "      <td>7</td>\n",
       "      <td>15</td>\n",
       "      <td>48123</td>\n",
       "      <td>10</td>\n",
       "      <td>7.97908</td>\n",
       "    </tr>\n",
       "    <tr>\n",
       "      <th>9</th>\n",
       "      <td>22846</td>\n",
       "      <td>10</td>\n",
       "      <td>16</td>\n",
       "      <td>48475</td>\n",
       "      <td>10</td>\n",
       "      <td>7.97908</td>\n",
       "    </tr>\n",
       "    <tr>\n",
       "      <th>10</th>\n",
       "      <td>23343</td>\n",
       "      <td>5</td>\n",
       "      <td>17</td>\n",
       "      <td>47766</td>\n",
       "      <td>10</td>\n",
       "      <td>7.97908</td>\n",
       "    </tr>\n",
       "    <tr>\n",
       "      <th>11</th>\n",
       "      <td>23555</td>\n",
       "      <td>5</td>\n",
       "      <td>12</td>\n",
       "      <td>48300</td>\n",
       "      <td>10</td>\n",
       "      <td>7.97908</td>\n",
       "    </tr>\n",
       "    <tr>\n",
       "      <th>12</th>\n",
       "      <td>23656</td>\n",
       "      <td>14</td>\n",
       "      <td>22</td>\n",
       "      <td>48245</td>\n",
       "      <td>10</td>\n",
       "      <td>7.97908</td>\n",
       "    </tr>\n",
       "    <tr>\n",
       "      <th>13</th>\n",
       "      <td>23964</td>\n",
       "      <td>4</td>\n",
       "      <td>22</td>\n",
       "      <td>47517</td>\n",
       "      <td>10</td>\n",
       "      <td>7.97908</td>\n",
       "    </tr>\n",
       "    <tr>\n",
       "      <th>14</th>\n",
       "      <td>26644</td>\n",
       "      <td>14</td>\n",
       "      <td>17</td>\n",
       "      <td>59799</td>\n",
       "      <td>10</td>\n",
       "      <td>7.97908</td>\n",
       "    </tr>\n",
       "    <tr>\n",
       "      <th>15</th>\n",
       "      <td>26645</td>\n",
       "      <td>2</td>\n",
       "      <td>18</td>\n",
       "      <td>59303</td>\n",
       "      <td>10</td>\n",
       "      <td>7.97908</td>\n",
       "    </tr>\n",
       "  </tbody>\n",
       "</table>\n",
       "</div>"
      ],
      "text/plain": [
       "    animal_id  session  scan_idx  nframes  nfields      fps\n",
       "0       21067        9        17    48252       10  7.97908\n",
       "1       21067       10        18    49431       10  7.97908\n",
       "2       21067       13        14    52671       10  7.97908\n",
       "3       22620        4        15    49122       10  7.97908\n",
       "4       22620        4        17    51593       10  7.97908\n",
       "5       22620        5        11    48647       10  7.97908\n",
       "6       22846        2        19    48050       10  7.97908\n",
       "7       22846        2        21    55188       10  7.97908\n",
       "8       22846        7        15    48123       10  7.97908\n",
       "9       22846       10        16    48475       10  7.97908\n",
       "10      23343        5        17    47766       10  7.97908\n",
       "11      23555        5        12    48300       10  7.97908\n",
       "12      23656       14        22    48245       10  7.97908\n",
       "13      23964        4        22    47517       10  7.97908\n",
       "14      26644       14        17    59799       10  7.97908\n",
       "15      26645        2        18    59303       10  7.97908"
      ]
     },
     "execution_count": 109,
     "metadata": {},
     "output_type": "execute_result"
    }
   ],
   "source": [
    "pd.DataFrame(nda.Scan())"
   ]
  },
  {
   "cell_type": "code",
   "execution_count": null,
   "id": "9fe5be74",
   "metadata": {},
   "outputs": [],
   "source": []
  },
  {
   "cell_type": "code",
   "execution_count": null,
   "id": "fc6eccf4",
   "metadata": {},
   "outputs": [],
   "source": []
  },
  {
   "cell_type": "code",
   "execution_count": null,
   "id": "3760342c",
   "metadata": {},
   "outputs": [],
   "source": [
    "import os\n",
    "from pipeline.utils.h5 import read_behavior_file"
   ]
  },
  {
   "cell_type": "code",
   "execution_count": 141,
   "id": "a6a1c557",
   "metadata": {},
   "outputs": [
    {
     "data": {
      "text/plain": [
       "'/mnt/scratch06/Two-Photon/taliah/2019-04-02_09-14-06/21067_9_00005_00001.tif'"
      ]
     },
     "execution_count": 141,
     "metadata": {},
     "output_type": "execute_result"
    }
   ],
   "source": [
    "full_scan_file"
   ]
  },
  {
   "cell_type": "code",
   "execution_count": 194,
   "id": "316d022d",
   "metadata": {},
   "outputs": [],
   "source": [
    "calib_df = []\n",
    "for scan in nda.Scan():\n",
    "    session_key = {'animal_id':scan['animal_id'], 'session':scan['session']}\n",
    "    mon_calib_candidates = dj.U('animal_id','session','scan_idx').aggr((stimulus.Trial & session_key)*\n",
    "                                                                       stimulus.Blank,n='count(*)')\n",
    "    mon_calib_candidates = mon_calib_candidates & 'n=52'\n",
    "    \n",
    "    for mon_calib_candidate in mon_calib_candidates.proj():\n",
    "        scan_path = (experiment.Scan & mon_calib_candidate).local_filenames_as_wildcard\n",
    "        scan_dir = os.path.split(scan_path)[0]\n",
    "\n",
    "        scan_file = (experiment.Scan & mon_calib_candidate).fetch1('filename')\n",
    "        behavior_file = (experiment.Scan.BehaviorFile() & mon_calib_candidate).fetch1('filename')\n",
    "\n",
    "        full_scan_file = os.path.join(scan_dir, f\"{scan_file}_00001.tif\")\n",
    "        full_beh_file = os.path.join(scan_dir, behavior_file)\n",
    "\n",
    "        scan_on = os.path.isfile(full_scan_file)\n",
    "        \n",
    "        data = read_behavior_file(full_beh_file)\n",
    "        \n",
    "        ts = data[\"ts\"]\n",
    "        pd = data[\"syncPd\"]\n",
    "        trial_starts = data[\"trialnum_ts\"][1]\n",
    "        \n",
    "        # deal with 32-bit unsigned integer wrapping\n",
    "        wrap_idx = np.where(np.diff(trial_starts) < 0)[0] \n",
    "        if (len(wrap_idx) > 0):\n",
    "            for i in range(len(wrap_idx)):\n",
    "                trial_starts[wrap_idx[i]+1:] = 2**32 + trial_starts[wrap_idx[i]+1:]\n",
    "\n",
    "        \n",
    "        calib_df.append({**mon_calib_candidate,'ts':ts,'pd':pd,\n",
    "                         'trial_starts':trial_starts,'scan_on':scan_on,'data':data})\n",
    "        \n"
   ]
  },
  {
   "cell_type": "code",
   "execution_count": 195,
   "id": "3e25a9d4",
   "metadata": {},
   "outputs": [],
   "source": [
    "import pandas as pd"
   ]
  },
  {
   "cell_type": "code",
   "execution_count": 196,
   "id": "26dbd346",
   "metadata": {},
   "outputs": [],
   "source": [
    "calib_df = pd.DataFrame(calib_df)"
   ]
  },
  {
   "cell_type": "code",
   "execution_count": 244,
   "id": "056d9365",
   "metadata": {},
   "outputs": [
    {
     "data": {
      "image/png": "[encoded data removed]",
      "text/plain": [
       "<Figure size 720x720 with 1 Axes>"
      ]
     },
     "metadata": {
      "needs_background": "light"
     },
     "output_type": "display_data"
    }
   ],
   "source": [
    "fig,ax = plt.subplots(figsize=(10,10))\n",
    "for ts,diode,scan,starts in zip(calib_df['ts'],calib_df['pd'],calib_df['scan_on'],calib_df['trial_starts']):\n",
    "    mod_ts = ts.copy()\n",
    "    trial_length = np.median(np.diff(starts))\n",
    "    trial_idx = np.logical_and(ts>=(starts[0]-trial_length), ts<=(starts[-1]+2*trial_length))\n",
    "    mod_ts -= mod_ts[0]\n",
    "    mod_ts[mod_ts<0] += 2**32\n",
    "    ax.plot(diode[trial_idx],c={True:'k',False:'r'}[scan],alpha=0.2)"
   ]
  },
  {
   "cell_type": "code",
   "execution_count": null,
   "id": "08980164",
   "metadata": {},
   "outputs": [],
   "source": []
  },
  {
   "cell_type": "code",
   "execution_count": null,
   "id": "3fff7d9b",
   "metadata": {},
   "outputs": [],
   "source": []
  },
  {
   "cell_type": "code",
   "execution_count": 247,
   "id": "c3eba85c",
   "metadata": {},
   "outputs": [
    {
     "name": "stdout",
     "output_type": "stream",
     "text": [
      "0.013956533426783813 1.402433437437006\n",
      "0.026130390148620324 0.3916750555490814\n",
      "0.02349820492233837 0.37950120264564846\n",
      "0.015601649207503784 0.3669983265595592\n"
     ]
    }
   ],
   "source": [
    "for diode in calib_df[calib_df['scan_on']==True]['pd']:\n",
    "    print(np.min(diode),np.max(diode))"
   ]
  },
  {
   "cell_type": "code",
   "execution_count": 248,
   "id": "f27719ed",
   "metadata": {},
   "outputs": [
    {
     "name": "stdout",
     "output_type": "stream",
     "text": [
      "0.01790481129657433 1.3902595947326672\n",
      "0.017575788141274053 1.3899305719552133\n",
      "0.013956533426783813 1.412633143394483\n",
      "0.013627510270358557 1.3974980958145342\n",
      "0.019220903916838086 1.4149363027926187\n",
      "0.01790481129657433 1.4251360086472211\n",
      "0.01790481129657433 1.4234908948053788\n",
      "0.01790481129657433 1.4205296898845636\n",
      "0.01790481129657433 1.4251360086472211\n",
      "0.01790481129657433 1.4234908948053788\n",
      "0.01790481129657433 1.4205296898845636\n",
      "0.015930672363366524 1.433690600589632\n",
      "0.01625969551913552 1.4198716443456445\n",
      "0.015930672363366524 1.4185555532667584\n",
      "0.016917741830392272 1.4001302780156328\n",
      "0.01658871867481077 1.3955239591600392\n",
      "0.032710853188090756 1.4379678965387208\n",
      "0.016917741830392272 1.4001302780156328\n",
      "0.01658871867481077 1.3955239591600392\n",
      "0.032710853188090756 1.4379678965387208\n",
      "0.019220903916838086 1.4057236651743974\n",
      "0.018891880761912748 1.4017753918884792\n",
      "0.016917741830392272 1.3981561413653332\n",
      "0.016917741830392272 1.3948659136078418\n",
      "0.013627510270358557 1.4123041206229714\n",
      "0.013627510270358557 1.4109880295360517\n",
      "0.014285556583115314 1.406710733493911\n",
      "0.014285556583115314 1.4017753918884792\n",
      "0.013956533426783813 1.406710733493911\n",
      "0.013956533426783813 1.4050656196276181\n",
      "0.015272626051547293 1.4557351257079634\n",
      "0.014943602895497054 1.422503826499226\n",
      "0.015272626051547293 1.4096719384477348\n",
      "0.010337278700949052 0.37226269545412366\n",
      "0.005730954488021542 0.36765637267266954\n"
     ]
    }
   ],
   "source": [
    "for diode in calib_df[calib_df['scan_on']==False]['pd']:\n",
    "    print(np.min(diode),np.max(diode))"
   ]
  },
  {
   "cell_type": "code",
   "execution_count": null,
   "id": "007346ac",
   "metadata": {},
   "outputs": [],
   "source": []
  },
  {
   "cell_type": "code",
   "execution_count": null,
   "id": "35e01e5a",
   "metadata": {},
   "outputs": [],
   "source": []
  },
  {
   "cell_type": "code",
   "execution_count": null,
   "id": "97fbd75c",
   "metadata": {},
   "outputs": [],
   "source": [
    "# Code borrowed from Moncalib\n",
    "scan_path = (Scan & moncalib_key).local_filenames_as_wildcard\n",
    "scan_dir = os.path.split(scan_path)[0]\n",
    "\n",
    "scan_file = (Scan & moncalib_key).fetch1('filename')\n",
    "behavior_file = (Scan.BehaviorFile() & moncalib_key).fetch1('filename')\n",
    "\n",
    "full_scan_file = os.path.join(scan_dir, f\"{scan_file}_00001.tif\")\n",
    "full_beh_file = os.path.join(scan_dir, behavior_file)\n",
    "\n",
    "scan_on = os.path.isfile(full_scan_file)\n",
    "\n",
    "data = read_behavior_file(full_beh_file)\n"
   ]
  },
  {
   "cell_type": "code",
   "execution_count": null,
   "id": "5c7823bc",
   "metadata": {},
   "outputs": [],
   "source": [
    "from pipeline.utils.h5 import read_behavior_file\n",
    "from scipy.optimize import curve_fit\n",
    "from scipy import interpolate\n"
   ]
  },
  {
   "cell_type": "code",
   "execution_count": null,
   "id": "6a98db59",
   "metadata": {},
   "outputs": [],
   "source": [
    "\n",
    "# deal with 32-bit unsigned integer wrapping\n",
    "wrap_idx = np.where(np.diff(trial_starts) < 0)[0] \n",
    "if (len(wrap_idx) > 0):\n",
    "    for i in range(len(wrap_idx)):\n",
    "        trial_starts[wrap_idx[i]+1:] = 2**32 + trial_starts[wrap_idx[i]+1:]\n",
    "\n",
    "if len(trial_starts) != 52: # 52 pixel values (0:255:5)\n",
    "    self.insert1(dict(key, scan_on=scan_on, valid=False))\n",
    "    return\n",
    "\n",
    "trial_length = np.diff(trial_starts).mean()\n",
    "trial_ends = np.concatenate([trial_starts[1:], [trial_starts[-1] + trial_length]])\n",
    "\n",
    "median_pd = []\n",
    "for start, end in zip(trial_starts, trial_ends):\n",
    "    trial_mask = (ts > start) & (ts < end)\n",
    "    median_pd += [np.median(pd[trial_mask])]\n",
    "\n",
    "pixel_value = np.linspace(0, 255, 52)\n",
    "pixel_value_for_fit = pixel_value.copy()\n",
    "pixel_value_for_fit[0] = 1e-9\n"
   ]
  },
  {
   "cell_type": "code",
   "execution_count": null,
   "id": "4019d991",
   "metadata": {},
   "outputs": [],
   "source": []
  },
  {
   "cell_type": "code",
   "execution_count": null,
   "id": "94e30cc1",
   "metadata": {},
   "outputs": [],
   "source": []
  },
  {
   "cell_type": "code",
   "execution_count": null,
   "id": "f328fe1f",
   "metadata": {},
   "outputs": [],
   "source": [
    "@schema\n",
    "class MonitorCalibrationFromH5(dj.Lookup):\n",
    "    definition = \"\"\" # monitor luminance calibration\n",
    "    -> experiment.PhotodiodeCalibration.proj(dummy_pdcalib_pixel='pixel_value', pdcalib_blanking='blanking')\n",
    "    -> experiment.Scan\n",
    "    ---\n",
    "    pixel_value             : mediumblob      # control pixel value (0-255)\n",
    "    median_pd               : mediumblob      # median photodiode value\n",
    "    luminance               : mediumblob      # luminance in cd/m^2\n",
    "    amplitude               : float           # lum = Amp*pixel_value^gamma + offset\n",
    "    gamma                   : float           #\n",
    "    offset                  : float           #\n",
    "    ts                      : timestamp       # timestamp\n",
    "    \"\"\"\n",
    "\n",
    "    @staticmethod\n",
    "    def func(x, a, b, m):\n",
    "        return a + b * (x**m)\n",
    "\n",
    "    def get_gamma_function(self, moncalib_key, pdcalib_key):\n",
    "        from pipeline.utils.h5 import read_behavior_file\n",
    "        from scipy.optimize import curve_fit\n",
    "        from scipy import interpolate\n",
    "        \n",
    "        # Code borrowed from Moncalib\n",
    "        scan_path = (Scan & moncalib_key).local_filenames_as_wildcard\n",
    "        scan_dir = os.path.split(scan_path)[0]\n",
    "\n",
    "        scan_file = (Scan & moncalib_key).fetch1('filename')\n",
    "        behavior_file = (Scan.BehaviorFile() & moncalib_key).fetch1('filename')\n",
    "\n",
    "        full_scan_file = os.path.join(scan_dir, f\"{scan_file}_00001.tif\")\n",
    "        full_beh_file = os.path.join(scan_dir, behavior_file)\n",
    "\n",
    "        scan_on = os.path.isfile(full_scan_file)\n",
    "\n",
    "        data = read_behavior_file(full_beh_file)\n",
    "\n",
    "        ts = data[\"ts\"]\n",
    "        pd = data[\"syncPd\"]\n",
    "        trial_starts = data[\"trialnum_ts\"][1]\n",
    "        \n",
    "        # deal with 32-bit unsigned integer wrapping\n",
    "        wrap_idx = np.where(np.diff(trial_starts) < 0)[0] \n",
    "        if (len(wrap_idx) > 0):\n",
    "            for i in range(len(wrap_idx)):\n",
    "                trial_starts[wrap_idx[i]+1:] = 2**32 + trial_starts[wrap_idx[i]+1:]\n",
    "\n",
    "        if len(trial_starts) != 52: # 52 pixel values (0:255:5)\n",
    "            self.insert1(dict(key, scan_on=scan_on, valid=False))\n",
    "            return\n",
    "\n",
    "        trial_length = np.diff(trial_starts).mean()\n",
    "        trial_ends = np.concatenate([trial_starts[1:], [trial_starts[-1] + trial_length]])\n",
    "\n",
    "        median_pd = []\n",
    "        for start, end in zip(trial_starts, trial_ends):\n",
    "            trial_mask = (ts > start) & (ts < end)\n",
    "            median_pd += [np.median(pd[trial_mask])]\n",
    "    \n",
    "        pixel_value = np.linspace(0, 255, 52)\n",
    "        pixel_value_for_fit = pixel_value.copy()\n",
    "        pixel_value_for_fit[0] = 1e-9\n",
    "\n",
    "        # get the most recent pd calibration trial\n",
    "        pixels, lums, pds = (experiment.PhotodiodeCalibration() & pdcalib_key).fetch('pixel_value', 'luminance', 'pd_voltage', order_by='pixel_value')\n",
    "        # Enforces median_pd increases monotonically as pixel value increases\n",
    "        diff_mask = (median_pd - median_pd[0]) >= 0.0\n",
    "        median_pd = diff_mask * (median_pd - median_pd[0]) + median_pd[0]\n",
    "        if min(median_pd) < min(pds):\n",
    "            median_pd += min(pds) - min(median_pd)\n",
    "            \n",
    "        # fit a function between pd voltages and luminance \n",
    "        pd2lum_params, _ = curve_fit(self.func, pds, lums)\n",
    "        # fit a function between pixel values and the pd voltages\n",
    "        px2pd_params, _ = curve_fit(self.func, pixel_value_for_fit, median_pd)\n",
    "        # fit a function between pixel values and luminance\n",
    "        px2lum_params, _ = curve_fit(self.func, pixel_value_for_fit, self.func(median_pd, *pd2lum_params))\n",
    "        \n",
    "        pd_offset, pd_amplitude, pd_gamma = px2pd_params\n",
    "        lum_offset, lum_amplitude, lum_gamma = px2lum_params\n",
    "        \n",
    "        luminance = self.func(median_pd, *pd2lum_params)\n",
    "        px2lum_interp = interpolate.interp1d(pixel_value, luminance)\n",
    "        inv_px2lum_interp = interpolate.interp1d(luminance, pixel_value)\n",
    "\n",
    "        return pixel_value, median_pd, luminance, pd_offset, pd_amplitude, pd_gamma, lum_offset, lum_amplitude, lum_gamma, px2lum_interp, inv_px2lum_interp\n",
    "\n",
    "    def fill(self, moncalib_key, pdcalib_key):\n",
    "        pd_key = (experiment.PhotodiodeCalibration.proj(dummy_pdcalib_pixel='pixel_value', pdcalib_blanking='blanking') & pdcalib_key & 'dummy_pdcalib_pixel LIKE 0').fetch1('KEY')\n",
    "        pixel_value, median_pd, luminance, pd_offset, pd_amplitude, pd_gamma, _, _, _, _, _ = self.get_gamma_function(moncalib_key, pdcalib_key)\n",
    "        self.insert1({**pd_key, **moncalib_key, 'pixel_value': pixel_value, 'median_pd': median_pd, 'luminance': luminance,\n",
    "                     'offset': pd_offset, 'amplitude': pd_amplitude, 'gamma': pd_gamma})\n",
    "    \n",
    "    def get_interpolation(self, moncalib_key, pdcalib_key):\n",
    "        _, _, _, _, _, _, _, _, _, f, f_inv = self.get_gamma_function(moncalib_key, pdcalib_key)\n",
    "        return f, f_inv"
   ]
  },
  {
   "cell_type": "markdown",
   "id": "47d7a234",
   "metadata": {},
   "source": [
    "px -> photodiode calibration is performed here:\n",
    "https://github.com/cajal/pipeline/blob/master/python/pipeline/experiment.py#L669\n",
    "This is performed every day with the Moncalib protocol\n",
    "\n",
    "ewang  3:24 PM\n",
    "photodiode -> cd is stored here:\n",
    "https://github.com/cajal/pipeline/blob/master/matlab/schemas/%2Bexperiment/PhotodiodeCalibration.m\n",
    "This is performed very infrequently, and I’m not familiar with how that manual table gets filled.  But at high enough voltage (the standard monitor voltage), this relationship is very very close to linear\n",
    "\n",
    "This table is filled when we do the luminance measurements via a Labview program. This is a totally manual process, one person measures and calls out the luminance values and another person fills the table using a measured voltage value from the photodiode channel (same channel from which we normally record the photodiode sync signal) and subsequently changes the pixel value (values range from 0 to 255).\n",
    "\n",
    "\n",
    "I also have a table in pipeline_experiment that is essentially the same as Eric’s for computing median_pd, but I computed the fit between both pixel and pd as well as pixel and luminance. I also did some arbitrary correction on median_pd to avoid getting negative luminance values. I discussed with Jiakun and we agreed the correction here is not the best approach and she’s writing a new table to replace this one (although the results will be very similar anyways)."
   ]
  },
  {
   "cell_type": "code",
   "execution_count": null,
   "id": "8b5868fe",
   "metadata": {},
   "outputs": [],
   "source": []
  }
 ],
 "metadata": {
  "kernelspec": {
   "display_name": "Python 3",
   "language": "python",
   "name": "python3"
  },
  "language_info": {
   "codemirror_mode": {
    "name": "ipython",
    "version": 3
   },
   "file_extension": ".py",
   "mimetype": "text/x-python",
   "name": "python",
   "nbconvert_exporter": "python",
   "pygments_lexer": "ipython3",
   "version": "3.6.9"
  }
 },
 "nbformat": 4,
 "nbformat_minor": 5
}
