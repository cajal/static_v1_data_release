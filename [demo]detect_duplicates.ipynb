{
 "cells": [
  {
   "cell_type": "markdown",
   "id": "1ea3ca61",
   "metadata": {},
   "source": [
    "Adapted from methods in dynamic-vision pipeline.\n",
    "\n",
    "https://github.com/cajal/dynamic-vision/blob/7ab1ae8530a7681645b4f56766b6359cbb6fc0b3/scans/scan.py#L529"
   ]
  },
  {
   "cell_type": "code",
   "execution_count": 19,
   "id": "a62a5b63",
   "metadata": {},
   "outputs": [],
   "source": [
    "import math\n",
    "import numpy as np\n",
    "import pandas as pd\n",
    "import networkx as nx\n",
    "from tqdm import tqdm\n",
    "import matplotlib.pyplot as plt\n",
    "from utils.signal import CenteredSpline\n",
    "\n",
    "import datajoint as dj\n",
    "from pipeline import meso\n",
    "from stimulus import stimulus\n",
    "stats = dj.create_virtual_module('neurodata_static_stats', 'neurodata_static_stats')\n"
   ]
  },
  {
   "cell_type": "code",
   "execution_count": 2,
   "id": "58cb8925",
   "metadata": {},
   "outputs": [],
   "source": [
    "scan_key  = {'animal_id': 21067, 'session': 10, 'scan_idx': 18} \n",
    "max_distance = 80 # microns\n",
    "min_correlation = 0.9"
   ]
  },
  {
   "cell_type": "code",
   "execution_count": null,
   "id": "edbcd19b",
   "metadata": {},
   "outputs": [],
   "source": [
    "# restrict to masks classified as soma\n",
    "soma = (meso.ScanSet.Unit & scan_key & (meso.MaskClassification.Type() & dict(type=\"soma\"))).proj()\n",
    "\n",
    "# get the activity traces, unit positions, field membership, ms_delays\n",
    "fetch_strs = ['KEY','um_x','um_y','um_z','ms_delay','trace','field','pearson']\n",
    "joint_rel = meso.ScanSet.UnitInfo * meso.Activity.Trace * soma * stats.Oracle.UnitScores\n",
    "unit_keys,xs,ys,zs,ms_delays,traces,fields,oracles = joint_rel.fetch(*fetch_strs)\n",
    "delays = ms_delays / 1000 # correct from ms to s\n",
    "\n",
    "positions = np.stack([xs, ys, zs], 1)\n",
    "\n",
    "df = pd.DataFrame(unit_keys)\n",
    "df['oracle'] = oracles\n",
    "df['position'] = list(map(np.array,positions))"
   ]
  },
  {
   "cell_type": "code",
   "execution_count": 4,
   "id": "e580e78a",
   "metadata": {},
   "outputs": [],
   "source": [
    "# downsample from scan depth times (nframes * ndepths) to scan frame times \n",
    "ndepth = len(dj.U('z') & (meso.ScanInfo.Field & scan_key))\n",
    "frame_times = (stimulus.Sync & scan_key).fetch1(\"frame_times\").squeeze()[::ndepth]"
   ]
  },
  {
   "cell_type": "code",
   "execution_count": 5,
   "id": "fc14d3f5",
   "metadata": {},
   "outputs": [],
   "source": [
    "# create hanning filter for desired downsample frequency\n",
    "unique_hz = 1\n",
    "source_hz = 1/ np.nanmedian(np.diff(frame_times))\n",
    "\n",
    "M = 2*round(source_hz/unique_hz)+1\n",
    "n = np.arange(M)    \n",
    "h = 0.5 - 0.5 * np.cos(2.0 * np.pi * n / (M - 1))\n",
    "h /= h.sum()\n",
    "\n",
    "#  apply low pass filter to traces\n",
    "traces = [np.convolve(t,h,mode='same') for t in traces]\n",
    "\n"
   ]
  },
  {
   "cell_type": "code",
   "execution_count": 6,
   "id": "23fa23ee",
   "metadata": {},
   "outputs": [],
   "source": [
    "# Clip scan times and spikes to the same length\n",
    "assert abs(len(frame_times) - len(traces[0])) < 2, \"length of times differs from spikes by more than 1\"\n",
    "min_length = min(len(frame_times), len(traces[0]))\n",
    "frame_times = frame_times[:min_length]\n",
    "traces = [t[:min_length] for t in traces]\n"
   ]
  },
  {
   "cell_type": "code",
   "execution_count": 10,
   "id": "651231de",
   "metadata": {},
   "outputs": [],
   "source": [
    "# Sample at specified hz\n",
    "scan_start = frame_times[0] + delays.max()\n",
    "n_samples = math.floor((frame_times[-1] - scan_start) * unique_hz)\n",
    "sample_times = scan_start + np.arange(n_samples) / unique_hz\n",
    "\n",
    "traces = np.stack(\n",
    "    [\n",
    "        CenteredSpline(frame_times + d, f)(sample_times)\n",
    "        for d, f in zip(delays, traces)\n",
    "    ],\n",
    "    0,\n",
    ")\n",
    "norm_traces = (traces - traces.mean(-1, keepdims=True)) / (traces.std(-1, keepdims=True) + 1e-8)\n",
    "df['norm_trace'] = list(map(np.array,norm_traces))"
   ]
  },
  {
   "cell_type": "code",
   "execution_count": 11,
   "id": "d5a88183",
   "metadata": {},
   "outputs": [],
   "source": [
    "# Undirected graph\n",
    "G = nx.Graph()\n",
    "G.add_nodes_from(range(len(traces)))\n",
    "for node, (norm_trace, position) in enumerate(zip(norm_traces, positions)):\n",
    "    # distance threshold\n",
    "    distances = np.linalg.norm(position[None] - positions, 2, 1)\n",
    "    distance_idx = np.nonzero(distances < max_distance)[0]\n",
    "\n",
    "    # correlation threshold\n",
    "    corrs = (norm_trace[None] * norm_traces[distance_idx]).mean(-1)\n",
    "    corr_idx = np.nonzero(corrs > min_correlation)[0]\n",
    "\n",
    "    # add edges\n",
    "    G.add_edges_from([(node, n) for n in distance_idx[corr_idx].tolist()])"
   ]
  },
  {
   "cell_type": "code",
   "execution_count": 172,
   "id": "b1aa8858",
   "metadata": {},
   "outputs": [],
   "source": [
    "# select representative unit from that group using max oracle\n",
    "neuron_keys = []\n",
    "rep_units = []\n",
    "unit_keys = []\n",
    "distances = []\n",
    "corrs = []\n",
    "for neuron_id, node_set in enumerate(nx.connected_components(G)):\n",
    "    _df = df.loc[list(node_set)]\n",
    "    unit_id = _df.loc[_df[\"oracle\"].idxmax(), \"unit_id\"]\n",
    "    neuron_keys += [dict(neuron_id=neuron_id, unit_id=unit_id)]\n",
    "    rep_units += [unit_id]\n",
    "    unit_keys += [dict(neuron_id=neuron_id, unit_id=uid) for uid in _df.unit_id]\n",
    "    if len(_df)>1:\n",
    "        com = np.mean(np.vstack(_df['position']),axis=0)\n",
    "        distances.append(np.linalg.norm(com - np.vstack(_df['position']),2,1))\n",
    "        corrs.append(np.vstack((np.array(_df.loc[_df['unit_id']==unit_id,'norm_trace']) * \n",
    "                                np.array(_df.loc[_df['unit_id']!=unit_id,'norm_trace']))).mean(-1))\n"
   ]
  },
  {
   "cell_type": "code",
   "execution_count": 49,
   "id": "65fb2372",
   "metadata": {},
   "outputs": [
    {
     "data": {
      "text/plain": [
       "(array([0.00e+00, 2.75e+03, 6.10e+02, 5.00e+02, 3.43e+02, 2.49e+02,\n",
       "        2.00e+01, 4.00e+00, 3.00e+00, 2.00e+00]),\n",
       " array([-0.5,  0.6,  1.7,  2.8,  3.9,  5. ,  6.1,  7.2,  8.3,  9.4, 10.5]),\n",
       " <BarContainer object of 10 artists>)"
      ]
     },
     "execution_count": 49,
     "metadata": {},
     "output_type": "execute_result"
    },
    {
     "data": {
      "image/png": "[encoded data removed]",
      "text/plain": [
       "<Figure size 432x288 with 1 Axes>"
      ]
     },
     "metadata": {
      "needs_background": "light"
     },
     "output_type": "display_data"
    }
   ],
   "source": [
    "plt.hist([len(x) for x in nx.connected_components(G)],bins = np.linspace(-0.5,10.5,11),color='k')"
   ]
  },
  {
   "cell_type": "code",
   "execution_count": 240,
   "id": "42f90d0c",
   "metadata": {},
   "outputs": [
    {
     "data": {
      "text/plain": [
       "(array([6.060e+02, 9.600e+01, 1.985e+03, 5.300e+01, 0.000e+00, 1.412e+03,\n",
       "        1.000e+01, 7.860e+02, 4.400e+01, 2.000e+00, 4.070e+02, 5.000e+00,\n",
       "        1.270e+02, 1.900e+01, 0.000e+00, 4.800e+01, 0.000e+00, 8.000e+00,\n",
       "        4.000e+00, 0.000e+00, 6.000e+00, 0.000e+00, 3.000e+00, 1.000e+00,\n",
       "        0.000e+00, 0.000e+00, 0.000e+00, 0.000e+00, 0.000e+00, 0.000e+00]),\n",
       " array([ 0.,  1.,  2.,  3.,  4.,  5.,  6.,  7.,  8.,  9., 10., 11., 12.,\n",
       "        13., 14., 15., 16., 17., 18., 19., 20., 21., 22., 23., 24., 25.,\n",
       "        26., 27., 28., 29., 30.]),\n",
       " <BarContainer object of 30 artists>)"
      ]
     },
     "execution_count": 240,
     "metadata": {},
     "output_type": "execute_result"
    },
    {
     "data": {
      "image/png": "[encoded data removed]",
      "text/plain": [
       "<Figure size 432x288 with 1 Axes>"
      ]
     },
     "metadata": {
      "needs_background": "light"
     },
     "output_type": "display_data"
    }
   ],
   "source": [
    "plt.hist(np.concatenate(distances),bins=np.linspace(0,30,31),color='k')"
   ]
  },
  {
   "cell_type": "code",
   "execution_count": 209,
   "id": "59da0d5a",
   "metadata": {},
   "outputs": [
    {
     "name": "stderr",
     "output_type": "stream",
     "text": [
      "100%|██████████| 4480/4480 [13:03<00:00,  5.72it/s]\n"
     ]
    }
   ],
   "source": [
    "rep_traces = df.loc[[u in rep_units for u in df['unit_id']],'norm_trace']\n",
    "rep_corrs = []\n",
    "for i in tqdm(np.arange(len(rep_traces)-1)):\n",
    "    \n",
    "    rep_corrs.append((np.vstack(rep_traces)[i][None] * \n",
    "                       np.vstack(rep_traces)[i+1:][None]).mean(-1))\n"
   ]
  },
  {
   "cell_type": "code",
   "execution_count": 236,
   "id": "c27819e4",
   "metadata": {},
   "outputs": [
    {
     "name": "stderr",
     "output_type": "stream",
     "text": [
      "100%|██████████| 823/823 [00:21<00:00, 37.66it/s]\n",
      "100%|██████████| 822/822 [00:21<00:00, 37.84it/s]\n",
      "100%|██████████| 810/810 [00:22<00:00, 36.32it/s]\n",
      "100%|██████████| 837/837 [00:23<00:00, 35.74it/s]\n",
      "100%|██████████| 848/848 [00:23<00:00, 35.34it/s]\n",
      "100%|██████████| 859/859 [00:24<00:00, 34.59it/s]\n",
      "100%|██████████| 857/857 [00:24<00:00, 34.86it/s]\n",
      "100%|██████████| 839/839 [00:23<00:00, 35.59it/s]\n",
      "100%|██████████| 837/837 [00:23<00:00, 35.54it/s]\n",
      "100%|██████████| 830/830 [00:23<00:00, 35.95it/s]\n"
     ]
    }
   ],
   "source": [
    "field_corrs = []\n",
    "\n",
    "for field in np.arange(10)+1:\n",
    "    field_traces = df.loc[df['field'] == field,'norm_trace']\n",
    "    for i in tqdm(np.arange(len(field_traces)-1)):\n",
    "\n",
    "        field_corrs.append((np.vstack(field_traces)[i][None] * \n",
    "                           np.vstack(field_traces)[i+1:][None]).mean(-1))\n"
   ]
  },
  {
   "cell_type": "code",
   "execution_count": 239,
   "id": "0e66bd82",
   "metadata": {},
   "outputs": [
    {
     "data": {
      "image/png": "[encoded data removed]",
      "text/plain": [
       "<Figure size 432x288 with 1 Axes>"
      ]
     },
     "metadata": {
      "needs_background": "light"
     },
     "output_type": "display_data"
    }
   ],
   "source": [
    "bins = np.linspace(0,1,21)\n",
    "plt.hist(np.concatenate(corrs),bins=bins,color='r',histtype=u'step',\n",
    "         density=True,label='labeled duplicates')\n",
    "plt.hist(np.hstack(rep_corrs).squeeze(),bins=bins,color='k',histtype=u'step',\n",
    "         density=True, label='labeled unique')\n",
    "plt.hist(np.hstack(field_corrs).squeeze(),bins=bins,color='c',histtype=u'step',\n",
    "         density=True, label='same field unique')\n",
    "_ = plt.legend()"
   ]
  }
 ],
 "metadata": {
  "kernelspec": {
   "display_name": "Python 3",
   "language": "python",
   "name": "python3"
  },
  "language_info": {
   "codemirror_mode": {
    "name": "ipython",
    "version": 3
   },
   "file_extension": ".py",
   "mimetype": "text/x-python",
   "name": "python",
   "nbconvert_exporter": "python",
   "pygments_lexer": "ipython3",
   "version": "3.6.9"
  }
 },
 "nbformat": 4,
 "nbformat_minor": 5
}
