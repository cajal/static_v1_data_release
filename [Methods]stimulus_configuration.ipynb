{
 "cells": [
  {
   "cell_type": "code",
   "execution_count": 1,
   "id": "73c67afd",
   "metadata": {},
   "outputs": [
    {
     "name": "stdout",
     "output_type": "stream",
     "text": [
      "Loading local settings from pipeline_config.json\n",
      "Connecting pfahey@at-database.ad.bcm.edu:3306\n"
     ]
    }
   ],
   "source": [
    "import numpy as np\n",
    "import pandas as pd\n",
    "import matplotlib.pyplot as plt\n",
    "\n",
    "import datajoint as dj\n",
    "import static_nda as nda\n",
    "from stimulus import stimulus\n",
    "stats = dj.create_virtual_module('neurodata_static_stats', 'neurodata_static_stats')"
   ]
  },
  {
   "cell_type": "code",
   "execution_count": 2,
   "id": "aa98e08d",
   "metadata": {},
   "outputs": [],
   "source": [
    "# scan_keys = nda.Scan # scans considered for release, including duplicates\n",
    "scan_keys = nda.ScanInclude # scans included in release"
   ]
  },
  {
   "cell_type": "markdown",
   "id": "8976f0e9",
   "metadata": {},
   "source": [
    "# Stimulus Design"
   ]
  },
  {
   "cell_type": "code",
   "execution_count": 3,
   "id": "6fa73d8b",
   "metadata": {},
   "outputs": [
    {
     "name": "stdout",
     "output_type": "stream",
     "text": [
      "mix of stimulus.Frame and stimulus.Clip\n",
      "\n",
      "all one presentation time:  0.5  sec\n",
      "\n",
      "all one image class:  imagenet\n",
      "\n",
      "total unique images:  20200\n"
     ]
    }
   ],
   "source": [
    "print('mix of stimulus.Frame and stimulus.Clip')\n",
    "dj.U('stimulus_type').aggr(dj.U('condition_hash','stimulus_type') & \n",
    "                           (stimulus.Condition * (stimulus.Trial & scan_keys)),\n",
    "                           num_conditions='count(*)')\n",
    "\n",
    "all_ids = dj.U('image_class','image_id').aggr((stimulus.Trial & scan_keys)*stimulus.Frame,\n",
    "                                             n_total='count(*)',\n",
    "                                             min_animal='MIN(animal_id)',\n",
    "                                             min_scan = 'MIN(scan_idx)', \n",
    "                                             min_session = 'MIN(session)')\n",
    "all_ids = dj.U('image_id','n_total','min_animal','min_scan','min_session') & all_ids\n",
    "\n",
    "\n",
    "print('\\nall one presentation time: ',\n",
    "      (dj.U('presentation_time') & (stimulus.Frame * (stimulus.Trial & scan_keys))).fetch1('presentation_time'),\n",
    "      ' sec')\n",
    "\n",
    "print('\\nall one image class: ',\n",
    "      (dj.U('image_class') & (stimulus.Frame * (stimulus.Trial & scan_keys))).fetch1('image_class'))\n",
    "\n",
    "print('\\ntotal unique images: ', len(dj.U('image_class','image_id') & \\\n",
    "                                     (stimulus.Frame * (stimulus.Trial & scan_keys))))\n"
   ]
  },
  {
   "cell_type": "markdown",
   "id": "9751dba4",
   "metadata": {},
   "source": [
    "# Single Scan Composition"
   ]
  },
  {
   "cell_type": "code",
   "execution_count": 4,
   "id": "375b820b",
   "metadata": {},
   "outputs": [
    {
     "data": {
      "text/html": [
       "<div>\n",
       "<style scoped>\n",
       "    .dataframe tbody tr th:only-of-type {\n",
       "        vertical-align: middle;\n",
       "    }\n",
       "\n",
       "    .dataframe tbody tr th {\n",
       "        vertical-align: top;\n",
       "    }\n",
       "\n",
       "    .dataframe thead th {\n",
       "        text-align: right;\n",
       "    }\n",
       "</style>\n",
       "<table border=\"1\" class=\"dataframe\">\n",
       "  <thead>\n",
       "    <tr style=\"text-align: right;\">\n",
       "      <th></th>\n",
       "      <th>scan</th>\n",
       "    </tr>\n",
       "    <tr>\n",
       "      <th>repeats</th>\n",
       "      <th></th>\n",
       "    </tr>\n",
       "  </thead>\n",
       "  <tbody>\n",
       "    <tr>\n",
       "      <th>1x Frame: 5000, 10x Frame: 100</th>\n",
       "      <td>5</td>\n",
       "    </tr>\n",
       "    <tr>\n",
       "      <th>9x Clip: 6, 1x Frame: 5000, 10x Frame: 200</th>\n",
       "      <td>2</td>\n",
       "    </tr>\n",
       "  </tbody>\n",
       "</table>\n",
       "</div>"
      ],
      "text/plain": [
       "                                            scan\n",
       "repeats                                         \n",
       "1x Frame: 5000, 10x Frame: 100                 5\n",
       "9x Clip: 6, 1x Frame: 5000, 10x Frame: 200     2"
      ]
     },
     "metadata": {},
     "output_type": "display_data"
    },
    {
     "data": {
      "text/html": [
       "<div>\n",
       "<style scoped>\n",
       "    .dataframe tbody tr th:only-of-type {\n",
       "        vertical-align: middle;\n",
       "    }\n",
       "\n",
       "    .dataframe tbody tr th {\n",
       "        vertical-align: top;\n",
       "    }\n",
       "\n",
       "    .dataframe thead th {\n",
       "        text-align: right;\n",
       "    }\n",
       "</style>\n",
       "<table border=\"1\" class=\"dataframe\">\n",
       "  <thead>\n",
       "    <tr style=\"text-align: right;\">\n",
       "      <th></th>\n",
       "      <th>scan</th>\n",
       "      <th>repeats</th>\n",
       "    </tr>\n",
       "  </thead>\n",
       "  <tbody>\n",
       "    <tr>\n",
       "      <th>0</th>\n",
       "      <td>21067_10_18</td>\n",
       "      <td>1x Frame: 5000, 10x Frame: 100</td>\n",
       "    </tr>\n",
       "    <tr>\n",
       "      <th>1</th>\n",
       "      <td>22846_10_16</td>\n",
       "      <td>1x Frame: 5000, 10x Frame: 100</td>\n",
       "    </tr>\n",
       "    <tr>\n",
       "      <th>2</th>\n",
       "      <td>23343_5_17</td>\n",
       "      <td>1x Frame: 5000, 10x Frame: 100</td>\n",
       "    </tr>\n",
       "    <tr>\n",
       "      <th>3</th>\n",
       "      <td>23656_14_22</td>\n",
       "      <td>1x Frame: 5000, 10x Frame: 100</td>\n",
       "    </tr>\n",
       "    <tr>\n",
       "      <th>4</th>\n",
       "      <td>23964_4_22</td>\n",
       "      <td>1x Frame: 5000, 10x Frame: 100</td>\n",
       "    </tr>\n",
       "    <tr>\n",
       "      <th>5</th>\n",
       "      <td>26644_14_17</td>\n",
       "      <td>9x Clip: 6, 1x Frame: 5000, 10x Frame: 200</td>\n",
       "    </tr>\n",
       "    <tr>\n",
       "      <th>6</th>\n",
       "      <td>26645_2_18</td>\n",
       "      <td>9x Clip: 6, 1x Frame: 5000, 10x Frame: 200</td>\n",
       "    </tr>\n",
       "  </tbody>\n",
       "</table>\n",
       "</div>"
      ],
      "text/plain": [
       "          scan                                     repeats\n",
       "0  21067_10_18              1x Frame: 5000, 10x Frame: 100\n",
       "1  22846_10_16              1x Frame: 5000, 10x Frame: 100\n",
       "2   23343_5_17              1x Frame: 5000, 10x Frame: 100\n",
       "3  23656_14_22              1x Frame: 5000, 10x Frame: 100\n",
       "4   23964_4_22              1x Frame: 5000, 10x Frame: 100\n",
       "5  26644_14_17  9x Clip: 6, 1x Frame: 5000, 10x Frame: 200\n",
       "6   26645_2_18  9x Clip: 6, 1x Frame: 5000, 10x Frame: 200"
      ]
     },
     "metadata": {},
     "output_type": "display_data"
    }
   ],
   "source": [
    "repeat_df = []\n",
    "for scan in scan_keys.proj():\n",
    "    scan_str = '_'.join([str(s) for s in scan.values()])\n",
    "    \n",
    "    scan_hashes = stimulus.Condition * dj.U('condition_hash').aggr(stimulus.Trial & scan,n_repeats='count(*)')\n",
    "    hash_repeats = dj.U('stimulus_type','n_repeats').aggr(scan_hashes,n_hashes='count(*)')\n",
    "    repeat_str = ', '.join([str(d['n_repeats'])+'x '+ \n",
    "                            d['stimulus_type'].replace('stimulus.','') + ': ' + \n",
    "                            str(d['n_hashes']) \n",
    "                            for d in hash_repeats.fetch(as_dict=True)])\n",
    "    \n",
    "    repeat_df.append({'scan':scan_str,'repeats':repeat_str})\n",
    "    \n",
    "repeat_df = pd.DataFrame(repeat_df)\n",
    "display(repeat_df.groupby('repeats').count())\n",
    "display(repeat_df)\n"
   ]
  },
  {
   "cell_type": "markdown",
   "id": "1722ef80",
   "metadata": {},
   "source": [
    "# Oracle Frames (10x)"
   ]
  },
  {
   "cell_type": "code",
   "execution_count": 5,
   "id": "7e785906",
   "metadata": {},
   "outputs": [
    {
     "data": {
      "text/html": [
       "\n",
       "        \n",
       "        <style type=\"text/css\">\n",
       "            .Relation{\n",
       "                border-collapse:collapse;\n",
       "            }\n",
       "            .Relation th{\n",
       "                background: #A0A0A0; color: #ffffff; padding:4px; border:#f0e0e0 1px solid;\n",
       "                font-weight: normal; font-family: monospace; font-size: 100%;\n",
       "            }\n",
       "            .Relation td{\n",
       "                padding:4px; border:#f0e0e0 1px solid; font-size:100%;\n",
       "            }\n",
       "            .Relation tr:nth-child(odd){\n",
       "                background: #ffffff;\n",
       "            }\n",
       "            .Relation tr:nth-child(even){\n",
       "                background: #f3f1ff;\n",
       "            }\n",
       "            /* Tooltip container */\n",
       "            .djtooltip {\n",
       "            }\n",
       "            /* Tooltip text */\n",
       "            .djtooltip .djtooltiptext {\n",
       "                visibility: hidden;\n",
       "                width: 120px;\n",
       "                background-color: black;\n",
       "                color: #fff;\n",
       "                text-align: center;\n",
       "                padding: 5px 0;\n",
       "                border-radius: 6px;\n",
       "                /* Position the tooltip text - see examples below! */\n",
       "                position: absolute;\n",
       "                z-index: 1;\n",
       "            }\n",
       "            #primary {\n",
       "                font-weight: bold;\n",
       "                color: black;\n",
       "            }\n",
       "\n",
       "            #nonprimary {\n",
       "                font-weight: normal;\n",
       "                color: white;\n",
       "            }\n",
       "\n",
       "            /* Show the tooltip text when you mouse over the tooltip container */\n",
       "            .djtooltip:hover .djtooltiptext {\n",
       "                visibility: visible;\n",
       "            }\n",
       "        </style>\n",
       "        \n",
       "        \n",
       "            <div style=\"max-height:1000px;max-width:1500px;overflow:auto;\">\n",
       "            <table border=\"1\" class=\"Relation\">\n",
       "                <thead> <tr style=\"text-align: right;\"> <th> <div class=\"djtooltip\">\n",
       "                                <p id=\"primary\">interscan_repeats</p>\n",
       "                                <span class=\"djtooltiptext\">calculated attribute</span>\n",
       "                            </div></th><th><div class=\"djtooltip\">\n",
       "                                <p id=\"nonprimary\">scan_count</p>\n",
       "                                <span class=\"djtooltiptext\">calculated attribute</span>\n",
       "                            </div> </th> </tr> </thead>\n",
       "                <tbody> <tr> <td>2</td>\n",
       "<td>100</td></tr><tr><td>7</td>\n",
       "<td>100</td> </tr> </tbody>\n",
       "            </table>\n",
       "            \n",
       "            <p>Total: 2</p></div>\n",
       "            "
      ],
      "text/plain": [
       "*interscan_rep scan_count    \n",
       "+------------+ +------------+\n",
       "2              100           \n",
       "7              100           \n",
       " (Total: 2)"
      ]
     },
     "metadata": {},
     "output_type": "display_data"
    },
    {
     "name": "stdout",
     "output_type": "stream",
     "text": [
      "100 unique image ids are repeated 10x in each of 9 scans\n",
      "\n",
      "an additional 100 unique image ids are repeated 10x in 2 scans\n"
     ]
    },
    {
     "data": {
      "text/html": [
       "\n",
       "        \n",
       "        <style type=\"text/css\">\n",
       "            .Relation{\n",
       "                border-collapse:collapse;\n",
       "            }\n",
       "            .Relation th{\n",
       "                background: #A0A0A0; color: #ffffff; padding:4px; border:#f0e0e0 1px solid;\n",
       "                font-weight: normal; font-family: monospace; font-size: 100%;\n",
       "            }\n",
       "            .Relation td{\n",
       "                padding:4px; border:#f0e0e0 1px solid; font-size:100%;\n",
       "            }\n",
       "            .Relation tr:nth-child(odd){\n",
       "                background: #ffffff;\n",
       "            }\n",
       "            .Relation tr:nth-child(even){\n",
       "                background: #f3f1ff;\n",
       "            }\n",
       "            /* Tooltip container */\n",
       "            .djtooltip {\n",
       "            }\n",
       "            /* Tooltip text */\n",
       "            .djtooltip .djtooltiptext {\n",
       "                visibility: hidden;\n",
       "                width: 120px;\n",
       "                background-color: black;\n",
       "                color: #fff;\n",
       "                text-align: center;\n",
       "                padding: 5px 0;\n",
       "                border-radius: 6px;\n",
       "                /* Position the tooltip text - see examples below! */\n",
       "                position: absolute;\n",
       "                z-index: 1;\n",
       "            }\n",
       "            #primary {\n",
       "                font-weight: bold;\n",
       "                color: black;\n",
       "            }\n",
       "\n",
       "            #nonprimary {\n",
       "                font-weight: normal;\n",
       "                color: white;\n",
       "            }\n",
       "\n",
       "            /* Show the tooltip text when you mouse over the tooltip container */\n",
       "            .djtooltip:hover .djtooltiptext {\n",
       "                visibility: visible;\n",
       "            }\n",
       "        </style>\n",
       "        \n",
       "        \n",
       "            <div style=\"max-height:1000px;max-width:1500px;overflow:auto;\">\n",
       "            <table border=\"1\" class=\"Relation\">\n",
       "                <thead> <tr style=\"text-align: right;\"> <th> <div class=\"djtooltip\">\n",
       "                                <p id=\"primary\">image_id</p>\n",
       "                                <span class=\"djtooltiptext\">image id</span>\n",
       "                            </div></th><th><div class=\"djtooltip\">\n",
       "                                <p id=\"primary\">pre_blank_period</p>\n",
       "                                <span class=\"djtooltiptext\">(s) off duration</span>\n",
       "                            </div></th><th><div class=\"djtooltip\">\n",
       "                                <p id=\"nonprimary\">n_delays</p>\n",
       "                                <span class=\"djtooltiptext\">calculated attribute</span>\n",
       "                            </div> </th> </tr> </thead>\n",
       "                <tbody> <tr>  </tr> </tbody>\n",
       "            </table>\n",
       "            \n",
       "            <p>Total: 0</p></div>\n",
       "            "
      ],
      "text/plain": [
       "*image_id    *pre_blank_per n_delays    \n",
       "+----------+ +------------+ +----------+\n",
       "\n",
       " (Total: 0)"
      ]
     },
     "metadata": {},
     "output_type": "display_data"
    },
    {
     "name": "stdout",
     "output_type": "stream",
     "text": [
      "not all pre_blank periods are unique\n"
     ]
    }
   ],
   "source": [
    "all_trials = (stimulus.Trial & scan_keys)\n",
    "\n",
    "intrascan_rel = dj.U('animal_id','session','scan_idx','image_id').aggr(all_trials*stimulus.Frame,\n",
    "                                                                       intrascan_repeats='count(*)')\n",
    "interscan_rel = dj.U('image_id').aggr(intrascan_rel & 'intrascan_repeats=10',interscan_repeats = 'count(*)')\n",
    "display(dj.U('interscan_repeats').aggr(interscan_rel,scan_count='count(*)'))\n",
    "\n",
    "print('100 unique image ids are repeated 10x in each of 9 scans')\n",
    "print('\\nan additional 100 unique image ids are repeated 10x in 2 scans')\n",
    "\n",
    "display(dj.U('image_id','pre_blank_period').aggr((all_trials * stimulus.Frame) & \n",
    "                                         (interscan_rel & 'interscan_repeats=9').proj(),n_delays='count(*)'))\n",
    "\n",
    "print('not all pre_blank periods are unique')"
   ]
  },
  {
   "cell_type": "markdown",
   "id": "454ac2db",
   "metadata": {},
   "source": [
    "# Unique Frames (1x)"
   ]
  },
  {
   "cell_type": "code",
   "execution_count": 10,
   "id": "84d3ce35",
   "metadata": {},
   "outputs": [
    {
     "data": {
      "image/png": "[encoded data removed]",
      "text/plain": [
       "<Figure size 720x720 with 1 Axes>"
      ]
     },
     "metadata": {
      "needs_background": "light"
     },
     "output_type": "display_data"
    }
   ],
   "source": [
    "all_1x_ids = all_ids & (dj.U('image_id') & (intrascan_rel & 'intrascan_repeats=1').proj())\n",
    "all_10x_ids = all_ids & (dj.U('image_id') & (intrascan_rel & 'intrascan_repeats=10').proj())\n",
    "\n",
    "hash_presence = []\n",
    "\n",
    "ordered_scan_keys = [{'animal_id': 21067, 'session': 10, 'scan_idx': 18},\n",
    "                     {'animal_id': 22846, 'session': 10, 'scan_idx': 16},\n",
    "                     {'animal_id': 23964, 'session': 4, 'scan_idx': 22},\n",
    "                     {'animal_id': 23343, 'session': 5, 'scan_idx': 17},\n",
    "                     {'animal_id': 23656, 'session': 14, 'scan_idx': 22},\n",
    "                     {'animal_id': 26644, 'session': 14, 'scan_idx': 17},\n",
    "                     {'animal_id': 26645, 'session': 2, 'scan_idx': 18}]\n",
    "\n",
    "for scan in ordered_scan_keys:\n",
    "    scan_1x_hashes = (all_1x_ids.aggr(dj.U('trial_idx','image_id') & ((stimulus.Trial & scan) * stimulus.Frame),\n",
    "                                   n_scan = 'count(trial_idx)',\n",
    "                                   keep_all_rows=True)).fetch('n_scan',\n",
    "                                   order_by='min_animal ASC, n_total DESC, min_scan ASC, min_session ASC')\n",
    "    scan_10x_hashes = (all_10x_ids.aggr(dj.U('trial_idx','image_id') & ((stimulus.Trial & scan) * stimulus.Frame),\n",
    "                                   n_scan = 'count(trial_idx)',\n",
    "                                   keep_all_rows=True)).fetch('n_scan',\n",
    "                                   order_by='min_animal ASC, n_total DESC, min_scan ASC, min_session ASC')\n",
    "    \n",
    "    hash_presence.append({'scan_key':scan,'hash_1x_presence':scan_1x_hashes,'hash_10x_presence':scan_10x_hashes})\n",
    "\n",
    "fig,ax = plt.subplots(figsize=(10,10))\n",
    "\n",
    "# hash_im = np.hstack((np.vstack([s['hash_10x_presence'] for s in hash_presence])>0,\n",
    "#                      np.vstack([s['hash_1x_presence'] for s in hash_presence])>0))\n",
    "\n",
    "hash_im = np.vstack([s['hash_1x_presence'] for s in hash_presence])>0\n",
    "ax.imshow(hash_im,cmap='binary',interpolation='none')\n",
    "ax.set_aspect(1000)\n",
    "\n",
    "ax.set_xlabel('unique imagenet image ids')\n",
    "ax.set_yticks(np.arange(len(list(scan_keys))))\n",
    "_ = ax.set_yticklabels(['_'.join([str(s) for s in list(key.values())[:3]]) for key in scan_keys])\n",
    "for spine in ax.spines.values():\n",
    "    spine.set_visible('False')\n",
    "    \n",
    "plt.show()\n",
    "plt.close()\n"
   ]
  },
  {
   "cell_type": "markdown",
   "id": "030f4eb3",
   "metadata": {},
   "source": [
    "\n",
    "# Oracle Scores"
   ]
  },
  {
   "cell_type": "code",
   "execution_count": 7,
   "id": "d73fdd0f",
   "metadata": {},
   "outputs": [
    {
     "data": {
      "image/png": "[encoded data removed]",
      "text/plain": [
       "<Figure size 720x720 with 1 Axes>"
      ]
     },
     "metadata": {
      "needs_background": "light"
     },
     "output_type": "display_data"
    }
   ],
   "source": [
    "pearsons = []\n",
    "scan_strs = []\n",
    "\n",
    "for scan in scan_keys:\n",
    "    if scan['animal_id'] == 23964:\n",
    "        scan.update({'group_id':163})\n",
    "    scan_strs.append('_'.join([str(s) for s in [scan['animal_id'],scan['session'],scan['scan_idx']]]))\n",
    "    pearsons.append((stats.Oracle.UnitScores & scan).fetch('pearson'))\n",
    "\n",
    "bins = np.linspace(0,1,51)\n",
    "bin_cents = np.mean(np.vstack((bins[:-1],bins[1:])),axis=0)\n",
    "fig,ax = plt.subplots(figsize=(10,10))\n",
    "for i,pearson in enumerate(pearsons):\n",
    "    hist, _ = np.histogram(pearson,bins=bins)\n",
    "    ax.plot(bin_cents,hist/np.max(hist)-i,c='k')\n",
    "ax.set_yticks(0-np.arange(len(pearsons)))\n",
    "_ = ax.set_yticklabels(scan_strs)\n"
   ]
  },
  {
   "cell_type": "code",
   "execution_count": null,
   "id": "d37f72e1",
   "metadata": {},
   "outputs": [],
   "source": []
  }
 ],
 "metadata": {
  "kernelspec": {
   "display_name": "Python 3",
   "language": "python",
   "name": "python3"
  },
  "language_info": {
   "codemirror_mode": {
    "name": "ipython",
    "version": 3
   },
   "file_extension": ".py",
   "mimetype": "text/x-python",
   "name": "python",
   "nbconvert_exporter": "python",
   "pygments_lexer": "ipython3",
   "version": "3.6.9"
  }
 },
 "nbformat": 4,
 "nbformat_minor": 5
}
